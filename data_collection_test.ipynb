{
 "cells": [
  {
   "cell_type": "code",
   "execution_count": null,
   "metadata": {},
   "outputs": [],
   "source": [
    "import yfinance as yf\n",
    "import pandas as pd\n",
    "import pandas_ta as ta\n",
    "import matplotlib.pyplot as plt\n",
    "import numpy as np\n",
    "from sklearn.preprocessing import MinMaxScaler, StandardScaler\n",
    "from sklearn.decomposition import PCA\n",
    "from sklearn.model_selection import train_test_split\n",
    "from sklearn.ensemble import RandomForestRegressor, GradientBoostingRegressor\n",
    "from sklearn.metrics import mean_squared_error, accuracy_score\n",
    "import seaborn as sns\n",
    "from tensorflow import keras\n",
    "import tensorflow as tf\n",
    "from tensorflow.keras import layers\n",
    "import xgboost as xgb\n",
    "from sklearn.metrics import r2_score\n",
    "from sklearn.model_selection import KFold\n",
    "from tensorflow.keras.models import Sequential\n",
    "from tensorflow.keras.layers import LSTM, Dropout, Dense"
   ]
  },
  {
   "cell_type": "code",
   "execution_count": 175,
   "metadata": {},
   "outputs": [],
   "source": [
    "companies = [\n",
    "    \"NFLX\", \"TSLA\", \"ORCL\", \"CSCO\", \"CRM\", \"ADBE\", \"SNPS\", \"INTC\", \"AAPL\", \"MSFT\", \"GOOGL\", \"META\", \"AMZN\",\n",
    "    \"QCOM\", \"TXN\", \"AMAT\", \"NOW\", \"RNG\", \"HPE\", \"NVDA\", \"AMD\", \"IBM\", \"INTU\", \"LRCX\", \"MU\", \"ADSK\", \"PLTR\", \n",
    "    \"ZS\", \"PANW\", \"SNOW\", \"DDOG\", \"CRWD\", \"V\", \"MA\", \"C\", \"JPM\", \"WFC\", \"TROW\", \"SCHW\", \"CME\", \"MSCI\", \n",
    "    \"PYPL\", \"SQ\", \"SHOP\", \"AXP\", \"GS\", \"MS\", \"SPGI\", \"BLK\", \"BAC\", \"NKE\", \"LULU\", \"TJX\", \"COST\", \"HD\", \"LOW\",\n",
    "    \"TGT\", \"WMT\", \"BBY\", \"F\", \"GM\", \"DE\", \"RCL\", \"UAL\", \"DAL\", \"AAL\", \"BKNG\", \"MAR\", \"HLT\", \"JNJ\", \"PFE\", \n",
    "    \"MRK\", \"AMGN\", \"ABBV\", \"CVS\", \"GSK\", \"AZN\", \"BMY\", \"LLY\", \"GILD\", \"MRNA\", \"REGN\", \"TMO\", \"ISRG\", \"SYK\", \n",
    "    \"BDX\", \"DHR\", \"KO\", \"PEP\", \"PG\", \"CLX\", \"CAG\", \"SJM\", \"CPB\", \"DIS\", \"EA\", \"MO\", \"CL\", \"EL\", \"KHC\", \n",
    "    \"UL\", \"NSRGY\", \"COTY\", \"MCD\", \"YUM\", \"SBUX\", \"DASH\", \"WBA\", \"XOM\", \"CVX\", \"SLB\", \"OXY\", \"PXD\", \"COP\", \n",
    "    \"BKR\", \"VLO\", \"PSX\", \"APD\", \"LIN\", \"DOW\", \"DD\", \"SHW\", \"PPG\", \"NOC\", \"LMT\", \"GD\", \"RTX\", \"BA\", \"GE\", \n",
    "    \"CAT\", \"MMM\", \"HON\", \"ITW\", \"EMR\", \"DHR\", \"UNH\", \"CI\", \"HUM\", \"ANTM\", \"CNC\"\n",
    "]\n"
   ]
  },
  {
   "cell_type": "code",
   "execution_count": 188,
   "metadata": {},
   "outputs": [],
   "source": [
    "data = pd.DataFrame()\n",
    "target_classification = pd.DataFrame()"
   ]
  },
  {
   "cell_type": "code",
   "execution_count": 177,
   "metadata": {},
   "outputs": [],
   "source": [
    "def remove_outliers(data, column):\n",
    "    Q1 = data[column].quantile(0.25)\n",
    "    Q3 = data[column].quantile(0.75)\n",
    "    IQR = Q3 - Q1\n",
    "    lower_bound = Q1 - 1.5 * IQR\n",
    "    upper_bound = Q3 + 1.5 * IQR\n",
    "    return data[(data[column] >= lower_bound) & (data[column] <= upper_bound)]"
   ]
  },
  {
   "cell_type": "code",
   "execution_count": 178,
   "metadata": {},
   "outputs": [],
   "source": [
    "def scale_data(uncscaled_data):\n",
    "       price_columns = ['Open', 'High', 'Low', 'Close']\n",
    "       technical_indicators = ['SMA15', 'EMA5',\n",
    "              'RSI15', 'BB_upper', 'BB_lower', 'MACD', 'MACD_signal', 'OBV', 'ADX',\n",
    "              'Aroon_Up', 'Aroon_Down']\n",
    "       volume_column = 'Volume'\n",
    "       \n",
    "       for col in price_columns:\n",
    "              uncscaled_data = remove_outliers(uncscaled_data, col)\n",
    "       \n",
    "       min_max_scaler = MinMaxScaler()\n",
    "       standard_scaler = StandardScaler()\n",
    "\n",
    "       uncscaled_data[price_columns] = standard_scaler.fit_transform(uncscaled_data[price_columns])\n",
    "\n",
    "       uncscaled_data[volume_column] = np.log1p(uncscaled_data[volume_column])  \n",
    "       uncscaled_data[[volume_column]] = standard_scaler.fit_transform(uncscaled_data[[volume_column]])\n",
    "\n",
    "       uncscaled_data[technical_indicators] = standard_scaler.fit_transform(uncscaled_data[technical_indicators])              #Chnaged to minmax scaler from standard\n",
    "\n",
    "       return uncscaled_data\n",
    "\n"
   ]
  },
  {
   "cell_type": "code",
   "execution_count": 179,
   "metadata": {},
   "outputs": [],
   "source": [
    "def calculate_tech_ind(curr, data):\n",
    "\n",
    "    data['SMA15'] = ta.sma(curr['Close'], length=15)  # Simple Moving Average\n",
    "    data['EMA5'] = ta.ema(curr['Close'], length=5)    # Exponential Moving Average\n",
    "    data['RSI15'] = ta.rsi(curr['Close'], length=15)  # Relative Strength Index\n",
    "\n",
    "    # Bollinger Bands: Measures volatility with a moving average and standard deviations\n",
    "    data['BB_upper'], data['BB_lower'] = ta.bbands(curr['Close'], length=56, std=2).iloc[:, [0, 2]].T.values\n",
    "\n",
    "    # MACD and Signal Line: Trend-following momentum indicator\n",
    "    data['MACD'], data['MACD_signal'] = ta.macd(curr['Close']).iloc[:, [0, 1]].T.values\n",
    "\n",
    "    # On-Balance Volume: Volume-based trend indicator\n",
    "    data['OBV'] = ta.obv(curr['Close'], curr['Volume'])\n",
    "\n",
    "    # ADX (Average Directional Index): Measures trend strength\n",
    "    data['ADX'] = ta.adx(curr['High'], curr['Low'], curr['Close']).iloc[:, 0]\n",
    "\n",
    "    # Aroon Oscillator: Identifies trend direction and strength\n",
    "    data['Aroon_Up'], data['Aroon_Down'] = ta.aroon(curr['High'], curr['Low']).iloc[:, [0, 1]].T.values\n",
    "    \n",
    "    uncleaned_data = pd.concat([curr, data], axis = 0)\n",
    "\n",
    "    uncleaned_data = uncleaned_data.iloc[14:, :]\n",
    "\n",
    "    uncleaned_data.fillna(method='ffill', inplace=True)\n",
    "\n",
    "    uncleaned_data.fillna(method='bfill', inplace=True)\n",
    "\n",
    "    scaled_data = scale_data(uncleaned_data)\n",
    "\n",
    "    #result_df = final_pcas(scaled_data)\n",
    "\n",
    "    return scaled_data"
   ]
  },
  {
   "cell_type": "code",
   "execution_count": null,
   "metadata": {},
   "outputs": [
    {
     "name": "stdout",
     "output_type": "stream",
     "text": [
      "EMR\n"
     ]
    },
    {
     "name": "stderr",
     "output_type": "stream",
     "text": [
      "[*********************100%***********************]  1 of 1 completed\n",
      "C:\\Users\\Nishc\\AppData\\Local\\Temp\\ipykernel_38560\\2595796236.py:11: FutureWarning: The behavior of `series[i:j]` with an integer-dtype index is deprecated. In a future version, this will be treated as *label-based* indexing, consistent with e.g. `series[i]` lookups. To retain the old behavior, use `series.iloc[i:j]`. To get the future behavior, use `series.loc[i:j]`.\n",
      "  data['MACD'], data['MACD_signal'] = ta.macd(curr['Close']).iloc[:, [0, 1]].T.values\n"
     ]
    },
    {
     "name": "stdout",
     "output_type": "stream",
     "text": [
      "DHR\n"
     ]
    },
    {
     "name": "stderr",
     "output_type": "stream",
     "text": [
      "[*********************100%***********************]  1 of 1 completed\n",
      "C:\\Users\\Nishc\\AppData\\Local\\Temp\\ipykernel_38560\\2595796236.py:11: FutureWarning: The behavior of `series[i:j]` with an integer-dtype index is deprecated. In a future version, this will be treated as *label-based* indexing, consistent with e.g. `series[i]` lookups. To retain the old behavior, use `series.iloc[i:j]`. To get the future behavior, use `series.loc[i:j]`.\n",
      "  data['MACD'], data['MACD_signal'] = ta.macd(curr['Close']).iloc[:, [0, 1]].T.values\n"
     ]
    },
    {
     "name": "stdout",
     "output_type": "stream",
     "text": [
      "UNH\n"
     ]
    },
    {
     "name": "stderr",
     "output_type": "stream",
     "text": [
      "[*********************100%***********************]  1 of 1 completed\n",
      "C:\\Users\\Nishc\\AppData\\Local\\Temp\\ipykernel_38560\\2595796236.py:11: FutureWarning: The behavior of `series[i:j]` with an integer-dtype index is deprecated. In a future version, this will be treated as *label-based* indexing, consistent with e.g. `series[i]` lookups. To retain the old behavior, use `series.iloc[i:j]`. To get the future behavior, use `series.loc[i:j]`.\n",
      "  data['MACD'], data['MACD_signal'] = ta.macd(curr['Close']).iloc[:, [0, 1]].T.values\n"
     ]
    },
    {
     "name": "stdout",
     "output_type": "stream",
     "text": [
      "CI\n"
     ]
    },
    {
     "name": "stderr",
     "output_type": "stream",
     "text": [
      "[*********************100%***********************]  1 of 1 completed\n",
      "C:\\Users\\Nishc\\AppData\\Local\\Temp\\ipykernel_38560\\2595796236.py:11: FutureWarning: The behavior of `series[i:j]` with an integer-dtype index is deprecated. In a future version, this will be treated as *label-based* indexing, consistent with e.g. `series[i]` lookups. To retain the old behavior, use `series.iloc[i:j]`. To get the future behavior, use `series.loc[i:j]`.\n",
      "  data['MACD'], data['MACD_signal'] = ta.macd(curr['Close']).iloc[:, [0, 1]].T.values\n",
      "[*********************100%***********************]  1 of 1 completed\n",
      "\n",
      "1 Failed download:\n",
      "['ANTM']: YFTzMissingError('$%ticker%: possibly delisted; no timezone found')\n"
     ]
    },
    {
     "name": "stdout",
     "output_type": "stream",
     "text": [
      "HUM\n",
      "'NoneType' object has no attribute 'iloc' ANTM\n"
     ]
    },
    {
     "name": "stderr",
     "output_type": "stream",
     "text": [
      "[*********************100%***********************]  1 of 1 completed\n",
      "C:\\Users\\Nishc\\AppData\\Local\\Temp\\ipykernel_38560\\2595796236.py:11: FutureWarning: The behavior of `series[i:j]` with an integer-dtype index is deprecated. In a future version, this will be treated as *label-based* indexing, consistent with e.g. `series[i]` lookups. To retain the old behavior, use `series.iloc[i:j]`. To get the future behavior, use `series.loc[i:j]`.\n",
      "  data['MACD'], data['MACD_signal'] = ta.macd(curr['Close']).iloc[:, [0, 1]].T.values\n"
     ]
    },
    {
     "name": "stdout",
     "output_type": "stream",
     "text": [
      "CNC\n"
     ]
    }
   ],
   "source": [
    "for i in companies:\n",
    "    try:\n",
    "\n",
    "        curr = yf.download(i, period=\"max\")\n",
    "\n",
    "        curr = curr.reset_index()\n",
    "\n",
    "        curr.columns = [col[0] for col in curr.columns]\n",
    "\n",
    "        curr.drop(columns=['Date'], inplace=True)\n",
    "        empty_data = pd.DataFrame()\n",
    "        result_df = calculate_tech_ind(curr, empty_data)\n",
    "        data = pd.concat([data, result_df], ignore_index=True)\n",
    "\n",
    "    except Exception as e:\n",
    "        print(e, i)"
   ]
  },
  {
   "cell_type": "code",
   "execution_count": 200,
   "metadata": {},
   "outputs": [],
   "source": [
    "scaled_data = data\n",
    "scaled_data = scaled_data.drop_duplicates()"
   ]
  },
  {
   "cell_type": "code",
   "execution_count": null,
   "metadata": {},
   "outputs": [],
   "source": [
    "def print_column_ranges(data):\n",
    "    for col in data.columns:\n",
    "        col_min = data[col].min()\n",
    "        col_max = data[col].max()\n",
    "        col_range = col_max - col_min\n",
    "        print(f\"{col}: Min = {col_min}, Max = {col_max}, Range = {col_range}\")\n",
    "\n",
    "print_column_ranges(data)\n"
   ]
  },
  {
   "cell_type": "code",
   "execution_count": 201,
   "metadata": {},
   "outputs": [
    {
     "name": "stdout",
     "output_type": "stream",
     "text": [
      "(2432696, 17)\n",
      "og data (2447890, 17)\n"
     ]
    }
   ],
   "source": [
    "print(scaled_data.shape)\n",
    "print(\"og data\", data.shape)"
   ]
  },
  {
   "cell_type": "code",
   "execution_count": 202,
   "metadata": {},
   "outputs": [],
   "source": [
    "target_reg = scaled_data['Close']\n",
    "target_classification = (scaled_data['Close'].shift(-1) > scaled_data['Close']).astype(int)"
   ]
  },
  {
   "cell_type": "code",
   "execution_count": 203,
   "metadata": {},
   "outputs": [],
   "source": [
    "input = scaled_data.drop(columns=['Low', 'Open','SMA15', 'BB_lower', 'BB_upper', 'Adj Close', 'Close', 'OBV'])"
   ]
  },
  {
   "cell_type": "code",
   "execution_count": 204,
   "metadata": {},
   "outputs": [
    {
     "name": "stdout",
     "output_type": "stream",
     "text": [
      "(2432696, 9)\n",
      "(2432696,)\n"
     ]
    }
   ],
   "source": [
    "print(input.shape)\n",
    "print(target_classification.shape)"
   ]
  },
  {
   "cell_type": "code",
   "execution_count": 205,
   "metadata": {},
   "outputs": [],
   "source": [
    "X_train_reg, X_test_reg, y_train_reg, y_test_reg = train_test_split(input, target_reg, test_size=0.2, random_state=42)"
   ]
  },
  {
   "cell_type": "code",
   "execution_count": 206,
   "metadata": {},
   "outputs": [],
   "source": [
    "X_train_cal, X_test_cal, y_train_cal, y_test_cal = train_test_split(input, target_classification, test_size=0.2, random_state=42)"
   ]
  },
  {
   "cell_type": "code",
   "execution_count": 207,
   "metadata": {},
   "outputs": [
    {
     "name": "stdout",
     "output_type": "stream",
     "text": [
      "(1946156, 9) (1946156,)\n",
      "(1946156, 9) (1946156,)\n"
     ]
    }
   ],
   "source": [
    "print(X_train_reg.shape, y_train_reg.shape)\n",
    "print(X_train_cal.shape, y_train_cal.shape)"
   ]
  },
  {
   "cell_type": "code",
   "execution_count": 159,
   "metadata": {},
   "outputs": [],
   "source": [
    "def final_pcas(data):\n",
    "       feature_columns = ['Open', 'High', 'Low', 'SMA15', 'EMA5',\n",
    "              'RSI15', 'BB_upper', 'BB_lower', 'OBV', 'ADX',\n",
    "              'Aroon_Up', 'Aroon_Down']\n",
    "\n",
    "       X = data[feature_columns]\n",
    "\n",
    "       pca = PCA(n_components=8)  \n",
    "       X_pca = pca.fit_transform(X)\n",
    "\n",
    "       explained_variance = pca.explained_variance_ratio_\n",
    "       cumulative_variance = np.cumsum(explained_variance)\n",
    "\n",
    "\n",
    "       n_components_to_keep = np.argmax(cumulative_variance >= 0.90) \n",
    "       pca_final = PCA(n_components=n_components_to_keep)\n",
    "       X_final = pca_final.fit_transform(X)\n",
    "\n",
    "       pca_columns = [f'PC{i+1}' for i in range(n_components_to_keep)]\n",
    "       pca_df = pd.DataFrame(data=X_final, columns=pca_columns)\n",
    "       data = pd.DataFrame(data=data, columns=['MACD', 'MACD_signal'])                                   #Cost was removed from here\n",
    "       result_df = pd.concat([data.reset_index(drop=True), pca_df.reset_index(drop=True)], axis=1)\n",
    "\n",
    "       return result_df\n"
   ]
  },
  {
   "cell_type": "code",
   "execution_count": null,
   "metadata": {},
   "outputs": [],
   "source": [
    "#data = final_pcas(data)"
   ]
  },
  {
   "cell_type": "code",
   "execution_count": 208,
   "metadata": {},
   "outputs": [
    {
     "data": {
      "image/png": "[encoded data removed]",
      "text/plain": [
       "<Figure size 1200x1000 with 2 Axes>"
      ]
     },
     "metadata": {},
     "output_type": "display_data"
    }
   ],
   "source": [
    "correlation_matrix = input.corr()\n",
    "\n",
    "# Set up the matplotlib figure\n",
    "plt.figure(figsize=(12, 10))\n",
    "\n",
    "# Create a heatmap using seaborn\n",
    "sns.heatmap(correlation_matrix, annot=True, fmt=\".2f\", cmap='coolwarm', \n",
    "            square=True, cbar_kws={\"shrink\": .8}, linewidths=.5)\n",
    "\n",
    "# Title and show the plot\n",
    "plt.title('Correlation Matrix of Technical Indicators')\n",
    "plt.show()\n"
   ]
  },
  {
   "cell_type": "code",
   "execution_count": 161,
   "metadata": {},
   "outputs": [
    {
     "name": "stdout",
     "output_type": "stream",
     "text": [
      "[9.9817508e-01 7.4674812e-05 4.3788255e-04 3.1011007e-04 3.2252882e-04\n",
      " 1.1105625e-04 1.4183344e-04 5.5305565e-05 3.7156325e-04] Index(['High'], dtype='object')\n"
     ]
    }
   ],
   "source": [
    "# Train XGBoost\n",
    "xgb_model = xgb.XGBRegressor(objective='reg:squarederror', random_state=42)\n",
    "xgb_model.fit(X_train_reg, y_train_reg)\n",
    "\n",
    "# Get feature importance scores\n",
    "feature_importance = xgb_model.feature_importances_\n",
    "important_features = X_train_reg.columns[feature_importance > 0.01]\n",
    "print(feature_importance, important_features)"
   ]
  },
  {
   "cell_type": "code",
   "execution_count": 209,
   "metadata": {},
   "outputs": [
    {
     "name": "stdout",
     "output_type": "stream",
     "text": [
      "Mean Squared Error (MSE): 0.0006011700741351504\n",
      "Root Mean Squared Error (RMSE): 0.024518769833234914\n",
      "R² Score: 0.9993722220370801\n"
     ]
    }
   ],
   "source": [
    "model = xgb.XGBRegressor(objective='reg:squarederror', random_state=42)\n",
    "model.fit(X_train_reg, y_train_reg)\n",
    "\n",
    "# Predict on the test set\n",
    "y_pred = model.predict(X_test_reg)\n",
    "\n",
    "# Evaluate the model\n",
    "mse = mean_squared_error(y_test_reg, y_pred)\n",
    "rmse = np.sqrt(mse)\n",
    "\n",
    "print(f'Mean Squared Error (MSE): {mse}')\n",
    "print(f'Root Mean Squared Error (RMSE): {rmse}')\n",
    "r2 = r2_score(y_test_reg, y_pred)\n",
    "print(f'R² Score: {r2}')"
   ]
  },
  {
   "cell_type": "code",
   "execution_count": 163,
   "metadata": {},
   "outputs": [
    {
     "name": "stdout",
     "output_type": "stream",
     "text": [
      "Average MSE: 0.0006019735518684816\n",
      "Average RMSE: 0.02448179108959996\n",
      "Average R² Score: 0.9993715143318639\n"
     ]
    }
   ],
   "source": [
    "kf = KFold(n_splits=100, shuffle=True, random_state=42)\n",
    "mse_scores = []\n",
    "rmse_scores = []\n",
    "r2_scores = []\n",
    "\n",
    "for train_index, test_index in kf.split(X_train_reg):\n",
    "    X_train, X_val = X_train_reg.iloc[train_index], X_train_reg.iloc[test_index]\n",
    "    y_train, y_val = y_train_reg.iloc[train_index], y_train_reg.iloc[test_index]\n",
    "    \n",
    "    model = xgb.XGBRegressor(objective='reg:squarederror', random_state=42)\n",
    "    model.fit(X_train, y_train)\n",
    "    \n",
    "    y_pred = model.predict(X_val)\n",
    "    mse = mean_squared_error(y_val, y_pred)\n",
    "    rmse = np.sqrt(mse)\n",
    "    r2 = r2_score(y_val, y_pred)\n",
    "    \n",
    "    mse_scores.append(mse)\n",
    "    rmse_scores.append(rmse)\n",
    "    r2_scores.append(r2)\n",
    "\n",
    "\n",
    "# Print average scores\n",
    "print(f'Average MSE: {np.mean(mse_scores)}')\n",
    "print(f'Average RMSE: {np.mean(rmse_scores)}')\n",
    "print(f'Average R² Score: {np.mean(r2_scores)}')"
   ]
  },
  {
   "cell_type": "code",
   "execution_count": null,
   "metadata": {},
   "outputs": [
    {
     "name": "stdout",
     "output_type": "stream",
     "text": [
      "Fitting 15 folds for each of 10 candidates, totalling 150 fits\n",
      "Best Parameters: {'subsample': 0.8, 'reg_lambda': 100, 'reg_alpha': 0.1, 'n_estimators': 40, 'max_depth': 5, 'learning_rate': 0.2, 'colsample_bytree': 0.8}\n",
      "Mean Squared Error (MSE): 0.0008519413654358332\n",
      "Root Mean Squared Error (RMSE): 0.029188034627837367\n",
      "R² Score: 0.9991117922711396\n"
     ]
    }
   ],
   "source": [
    "from sklearn.model_selection import RandomizedSearchCV\n",
    "import xgboost as xgb\n",
    "from sklearn.metrics import mean_squared_error\n",
    "import numpy as np\n",
    "\n",
    "param_grid = {\n",
    "    'n_estimators': [5, 10, 20, 25, 30, 35, 40],\n",
    "    'max_depth': [3, 4, 5],\n",
    "    'learning_rate': [0.01, 0.1, 0.2],\n",
    "    'subsample': [0.6, 0.8, 1.0],\n",
    "    'colsample_bytree': [0.6, 0.8, 1.0],\n",
    "    'reg_alpha': [0, 0.1, 1],\n",
    "    'reg_lambda': [1, 10, 100]\n",
    "}\n",
    "\n",
    "grid_search = RandomizedSearchCV(estimator=xgb.XGBRegressor(objective='reg:squarederror', random_state=42),\n",
    "                           param_distributions=param_grid,\n",
    "                           scoring='r2',\n",
    "                           cv=15,\n",
    "                           verbose=1)\n",
    "\n",
    "grid_search.fit(X_train_reg, y_train_reg)\n",
    "print(f\"Best Parameters: {grid_search.best_params_}\")\n",
    "\n",
    "best_model = grid_search.best_estimator_\n",
    "y_pred = best_model.predict(X_test_reg)\n",
    "mse = mean_squared_error(y_test_reg, y_pred)\n",
    "rmse = np.sqrt(mse)\n",
    "r2 = r2_score(y_test_reg, y_pred)\n",
    "print(f'Mean Squared Error (MSE): {mse}')\n",
    "print(f'Root Mean Squared Error (RMSE): {rmse}')\n",
    "print(f'R² Score: {r2}')"
   ]
  },
  {
   "cell_type": "code",
   "execution_count": 165,
   "metadata": {},
   "outputs": [
    {
     "data": {
      "text/plain": [
       "xgboost.sklearn.XGBRegressor"
      ]
     },
     "execution_count": 165,
     "metadata": {},
     "output_type": "execute_result"
    }
   ],
   "source": [
    "type(best_model)"
   ]
  },
  {
   "cell_type": "code",
   "execution_count": 166,
   "metadata": {},
   "outputs": [
    {
     "data": {
      "text/plain": [
       "['model_reg.joblib']"
      ]
     },
     "execution_count": 166,
     "metadata": {},
     "output_type": "execute_result"
    }
   ],
   "source": [
    "from joblib import dump\n",
    "\n",
    "# Save the model\n",
    "dump(best_model, 'model_reg.joblib')"
   ]
  },
  {
   "cell_type": "markdown",
   "metadata": {},
   "source": [
    "-----------\n",
    "Classifier\n",
    "-----------"
   ]
  },
  {
   "cell_type": "code",
   "execution_count": 210,
   "metadata": {},
   "outputs": [
    {
     "name": "stdout",
     "output_type": "stream",
     "text": [
      "Accuracy: 0.7726147901508612\n"
     ]
    }
   ],
   "source": [
    "model_c = xgb.XGBClassifier(random_state=42)\n",
    "model_c.fit(X_train_cal, y_train_cal)\n",
    "y_pred = model_c.predict(X_test_cal)\n",
    "\n",
    "accuracy = accuracy_score(y_test_cal, y_pred)\n",
    "print(f'Accuracy: {accuracy}')"
   ]
  },
  {
   "cell_type": "code",
   "execution_count": 211,
   "metadata": {},
   "outputs": [
    {
     "name": "stdout",
     "output_type": "stream",
     "text": [
      "Average Accuracy: 0.7720979199876623\n"
     ]
    }
   ],
   "source": [
    "kf = KFold(n_splits=5, shuffle=True, random_state=42)\n",
    "accuracy_scores = []\n",
    "\n",
    "for train_index, val_index in kf.split(X_train_cal):\n",
    "    X_train, X_val = X_train_cal.iloc[train_index], X_train_cal.iloc[val_index]\n",
    "    y_train, y_val = y_train_cal.iloc[train_index], y_train_cal.iloc[val_index]\n",
    "\n",
    "    model_c = xgb.XGBClassifier(random_state=42)\n",
    "    model_c.fit(X_train, y_train)\n",
    "    \n",
    "    y_pred = model_c.predict(X_val)\n",
    "    accuracy = accuracy_score(y_val, y_pred)\n",
    "    accuracy_scores.append(accuracy)\n",
    "\n",
    "print(f'Average Accuracy: {np.mean(accuracy_scores)}')"
   ]
  },
  {
   "cell_type": "code",
   "execution_count": 92,
   "metadata": {},
   "outputs": [
    {
     "name": "stdout",
     "output_type": "stream",
     "text": [
      "Fitting 5 folds for each of 2187 candidates, totalling 10935 fits\n",
      "Best Parameters: {'colsample_bytree': 0.8, 'learning_rate': 0.1, 'max_depth': 7, 'n_estimators': 200, 'reg_alpha': 1, 'reg_lambda': 1, 'subsample': 0.8}\n",
      "Accuracy: 0.7311960825219682\n"
     ]
    }
   ],
   "source": [
    "from sklearn.model_selection import GridSearchCV\n",
    "import xgboost as xgb\n",
    "\n",
    "param_grid = {\n",
    "    'n_estimators': [50, 100, 200],\n",
    "    'max_depth': [3, 5, 7],\n",
    "    'learning_rate': [0.01, 0.1, 0.2],\n",
    "    'subsample': [0.6, 0.8, 1.0],\n",
    "    'colsample_bytree': [0.6, 0.8, 1.0],\n",
    "    'reg_alpha': [0, 0.1, 1],  # L1 regularization\n",
    "    'reg_lambda': [1, 10, 100]  # L2 regularization\n",
    "}\n",
    "\n",
    "grid_search = GridSearchCV(estimator=xgb.XGBClassifier(random_state=42),\n",
    "                           param_grid=param_grid,\n",
    "                           scoring='accuracy',\n",
    "                           cv=5,\n",
    "                           verbose=1)\n",
    "\n",
    "grid_search.fit(X_train_cal, y_train_cal)\n",
    "print(f\"Best Parameters: {grid_search.best_params_}\")\n",
    "\n",
    "best_model = grid_search.best_estimator_\n",
    "y_pred = best_model.predict(X_test_cal)\n",
    "accuracy = accuracy_score(y_test_cal, y_pred)\n",
    "print(f'Accuracy: {accuracy}')\n"
   ]
  },
  {
   "cell_type": "code",
   "execution_count": null,
   "metadata": {},
   "outputs": [],
   "source": [
    "best_model = grid_search.best_estimator_\n",
    "y_pred = best_model.predict(X_test_cal)\n",
    "accuracy = accuracy_score(y_test_cal, y_pred)\n",
    "print(f'Accuracy: {accuracy}')"
   ]
  },
  {
   "cell_type": "code",
   "execution_count": 94,
   "metadata": {},
   "outputs": [
    {
     "data": {
      "text/plain": [
       "['best_model_grid_cal_max.joblib']"
      ]
     },
     "execution_count": 94,
     "metadata": {},
     "output_type": "execute_result"
    }
   ],
   "source": [
    "dump(best_model, 'best_model_grid_cal_max.joblib')"
   ]
  },
  {
   "cell_type": "markdown",
   "metadata": {},
   "source": [
    "-------\n",
    "Deep Learning - Regressor\n",
    "-------"
   ]
  },
  {
   "cell_type": "code",
   "execution_count": null,
   "metadata": {},
   "outputs": [],
   "source": [
    "model = keras.Sequential([\n",
    "    layers.Dense(64, activation='relu', input_shape=(X_train_reg.shape[1],)), \n",
    "    layers.Dense(32, activation='relu'), \n",
    "    layers.Dense(1)  \n",
    "])\n",
    "\n",
    "model.compile(optimizer='adam', loss='mean_squared_error')\n",
    "\n",
    "model.fit(X_train_reg, y_train_reg, epochs=100, batch_size=32, validation_split=0.2)\n",
    "\n",
    "y_pred = model.predict(X_test_reg)\n",
    "\n",
    "mse = mean_squared_error(y_test_reg, y_pred)\n",
    "print(f'Mean Squared Error: {mse}')\n",
    "\n",
    "rmse = np.sqrt(mse)\n",
    "print(f'Root Mean Squared Error (RMSE): {rmse}')\n",
    "\n",
    "results = pd.DataFrame({\n",
    "    'Actual': y_test_reg,\n",
    "    'Predicted': y_pred.flatten()  \n",
    "})\n",
    "\n",
    "print(results.head())\n"
   ]
  },
  {
   "cell_type": "markdown",
   "metadata": {},
   "source": [
    "-----\n",
    "Deep Learning - Classification\n",
    "-----"
   ]
  },
  {
   "cell_type": "code",
   "execution_count": 195,
   "metadata": {},
   "outputs": [
    {
     "name": "stderr",
     "output_type": "stream",
     "text": [
      "c:\\Users\\Nishc\\anaconda3\\envs\\TensorFlow_ENV\\lib\\site-packages\\keras\\engine\\data_adapter.py:1699: FutureWarning: The behavior of `series[i:j]` with an integer-dtype index is deprecated. In a future version, this will be treated as *label-based* indexing, consistent with e.g. `series[i]` lookups. To retain the old behavior, use `series.iloc[i:j]`. To get the future behavior, use `series.loc[i:j]`.\n",
      "  return t[start:end]\n"
     ]
    },
    {
     "name": "stdout",
     "output_type": "stream",
     "text": [
      "Epoch 1/10\n",
      "48959/48959 [==============================] - 203s 4ms/step - loss: 0.1218 - accuracy: 0.7688 - val_loss: 0.1201 - val_accuracy: 0.7723\n",
      "Epoch 2/10\n",
      "48959/48959 [==============================] - 264s 5ms/step - loss: 0.1202 - accuracy: 0.7701 - val_loss: 0.1199 - val_accuracy: 0.7720\n",
      "Epoch 3/10\n",
      "48959/48959 [==============================] - 237s 5ms/step - loss: 0.1200 - accuracy: 0.7703 - val_loss: 0.1200 - val_accuracy: 0.7718\n",
      "Epoch 4/10\n",
      "48959/48959 [==============================] - 166s 3ms/step - loss: 0.1198 - accuracy: 0.7706 - val_loss: 0.1199 - val_accuracy: 0.7680\n",
      "Epoch 5/10\n",
      "48959/48959 [==============================] - 167s 3ms/step - loss: 0.1197 - accuracy: 0.7711 - val_loss: 0.1196 - val_accuracy: 0.7709\n",
      "Epoch 6/10\n",
      "48959/48959 [==============================] - 157s 3ms/step - loss: 0.1197 - accuracy: 0.7708 - val_loss: 0.1197 - val_accuracy: 0.7705\n",
      "Epoch 7/10\n",
      "48959/48959 [==============================] - 157s 3ms/step - loss: 0.1196 - accuracy: 0.7715 - val_loss: 0.1196 - val_accuracy: 0.7717\n",
      "Epoch 8/10\n",
      "48959/48959 [==============================] - 156s 3ms/step - loss: 0.1196 - accuracy: 0.7714 - val_loss: 0.1194 - val_accuracy: 0.7716\n",
      "Epoch 9/10\n",
      "48959/48959 [==============================] - 156s 3ms/step - loss: 0.1196 - accuracy: 0.7716 - val_loss: 0.1195 - val_accuracy: 0.7715\n",
      "Epoch 10/10\n",
      "48959/48959 [==============================] - 156s 3ms/step - loss: 0.1196 - accuracy: 0.7717 - val_loss: 0.1197 - val_accuracy: 0.7708\n",
      "15300/15300 [==============================] - 16s 1ms/step\n",
      "Accuracy: 0.7707205679900978\n"
     ]
    }
   ],
   "source": [
    "model = keras.Sequential([\n",
    "    layers.Dense(64, activation='relu', input_shape=(X_train_cal.shape[1],)), \n",
    "    layers.Dense(32, activation='relu'), \n",
    "    layers.Dense(1)  \n",
    "])\n",
    "\n",
    "with tf.device('/GPU:0'):\n",
    "    model.compile(optimizer='adam', loss='mean_squared_error', metrics=['accuracy'])\n",
    "\n",
    "model.fit(X_train_cal, y_train_cal, epochs=10, batch_size=32, validation_split=0.2)\n",
    "\n",
    "y_pred = (model.predict(X_test_cal) > 0.5).astype(\"int32\")\n",
    "accuracy = accuracy_score(y_test_cal, y_pred)\n",
    "print(f'Accuracy: {accuracy}')"
   ]
  },
  {
   "cell_type": "code",
   "execution_count": null,
   "metadata": {},
   "outputs": [],
   "source": [
    "X_train_cal_pca = final_pcas(X_train_cal)\n",
    "X_test_cal_pca = final_pcas(X_test_cal)"
   ]
  },
  {
   "cell_type": "code",
   "execution_count": 196,
   "metadata": {},
   "outputs": [
    {
     "name": "stdout",
     "output_type": "stream",
     "text": [
      "Trial 5 Complete [00h 12m 31s]\n",
      "val_accuracy: 0.7724220752716064\n",
      "\n",
      "Best val_accuracy So Far: 0.7729301452636719\n",
      "Total elapsed time: 01h 06m 05s\n"
     ]
    }
   ],
   "source": [
    "from keras import layers, models\n",
    "from keras_tuner import RandomSearch\n",
    "\n",
    "def build_model(hp):\n",
    "    model = models.Sequential()\n",
    "    model.add(layers.Dense(units=hp.Int('units1', min_value=32, max_value=128, step=32),\n",
    "                           activation='relu', input_shape=(X_train_cal.shape[1],)))\n",
    "    model.add(layers.Dense(units=hp.Int('units2', min_value=16, max_value=48, step=16),\n",
    "                           activation='relu'))\n",
    "    model.add(layers.Dense(1, activation='sigmoid'))\n",
    "    \n",
    "    model.compile(optimizer='adam', loss='binary_crossentropy', metrics=['accuracy'])\n",
    "    return model\n",
    "\n",
    "tuner = RandomSearch(build_model,\n",
    "                     objective='val_accuracy',\n",
    "                     max_trials=5,\n",
    "                     executions_per_trial=1,\n",
    "                     directory='my_dir',\n",
    "                     project_name='helloworld')\n",
    "\n",
    "tuner.search(X_train_cal, y_train_cal, epochs=5, validation_split=0.2)\n",
    "best_model = tuner.get_best_models(num_models=1)[0]\n"
   ]
  },
  {
   "cell_type": "code",
   "execution_count": null,
   "metadata": {},
   "outputs": [
    {
     "name": "stdout",
     "output_type": "stream",
     "text": [
      "Trial 10 Complete [00h 02m 43s]\n",
      "val_accuracy: 0.719045877456665\n",
      "\n",
      "Best val_accuracy So Far: 0.719045877456665\n",
      "Total elapsed time: 00h 27m 21s\n",
      "WARNING:tensorflow:Detecting that an object or model or tf.train.Checkpoint is being deleted with unrestored values. See the following logs for the specific values in question. To silence these warnings, use `status.expect_partial()`. See https://www.tensorflow.org/api_docs/python/tf/train/Checkpoint#restorefor details about the status object returned by the restore function.\n",
      "WARNING:tensorflow:Value in checkpoint could not be found in the restored object: (root).optimizer.iter\n",
      "WARNING:tensorflow:Value in checkpoint could not be found in the restored object: (root).optimizer.beta_1\n",
      "WARNING:tensorflow:Value in checkpoint could not be found in the restored object: (root).optimizer.beta_2\n",
      "WARNING:tensorflow:Value in checkpoint could not be found in the restored object: (root).optimizer.decay\n",
      "WARNING:tensorflow:Value in checkpoint could not be found in the restored object: (root).optimizer.learning_rate\n"
     ]
    }
   ],
   "source": [
    "from keras import layers, models\n",
    "from keras_tuner import RandomSearch\n",
    "\n",
    "def build_model(hp):\n",
    "    model = models.Sequential()\n",
    "    model.add(layers.Dense(units=hp.Int('units1', min_value=32, max_value=128, step=32),\n",
    "                           activation='relu', input_shape=(X_train_cal_pca.shape[1],)))\n",
    "    model.add(layers.Dense(units=hp.Int('units2', min_value=16, max_value=48, step=16),\n",
    "                           activation='relu'))\n",
    "    model.add(layers.Dense(1, activation='sigmoid'))\n",
    "    \n",
    "    model.compile(optimizer='adam', loss='binary_crossentropy', metrics=['accuracy'])\n",
    "    return model\n",
    "\n",
    "tuner = RandomSearch(build_model,\n",
    "                     objective='val_accuracy',\n",
    "                     max_trials=10,\n",
    "                     executions_per_trial=1,\n",
    "                     directory='my_dir_pca',\n",
    "                     project_name='helloworld')\n",
    "\n",
    "tuner.search(X_train_cal_pca, y_train_cal, epochs=5, validation_split=0.2)\n",
    "best_model = tuner.get_best_models(num_models=1)[0]"
   ]
  },
  {
   "cell_type": "markdown",
   "metadata": {},
   "source": [
    "-----\n",
    "LSTM - Regression\n",
    "---"
   ]
  },
  {
   "cell_type": "code",
   "execution_count": 197,
   "metadata": {},
   "outputs": [
    {
     "data": {
      "text/plain": [
       "(2447926, 9)"
      ]
     },
     "execution_count": 197,
     "metadata": {},
     "output_type": "execute_result"
    }
   ],
   "source": [
    "model = Sequential()\n",
    "\n",
    "model.add(LSTM(64, activation='relu', input_shape=(None, 9), return_sequences=True))\n",
    "\n",
    "model.add(LSTM(32, activation='relu', return_sequences=False))\n",
    "\n",
    "model.add(Dropout(0.2))\n",
    "\n",
    "model.add(Dense(1))\n",
    "\n",
    "# Compile the model\n",
    "model.compile(optimizer='adam', loss='mean_squared_error')\n",
    "\n",
    "model.summary()"
   ]
  },
  {
   "cell_type": "code",
   "execution_count": null,
   "metadata": {},
   "outputs": [],
   "source": [
    "model.fit(X_train_reg, y_train_reg, epochs=50, batch_size=32, validation_split=0.2)"
   ]
  }
 ],
 "metadata": {
  "kernelspec": {
   "display_name": "TensorFlow_ENV",
   "language": "python",
   "name": "python3"
  },
  "language_info": {
   "codemirror_mode": {
    "name": "ipython",
    "version": 3
   },
   "file_extension": ".py",
   "mimetype": "text/x-python",
   "name": "python",
   "nbconvert_exporter": "python",
   "pygments_lexer": "ipython3",
   "version": "3.10.14"
  }
 },
 "nbformat": 4,
 "nbformat_minor": 2
}
