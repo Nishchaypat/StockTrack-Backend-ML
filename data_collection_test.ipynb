{
 "cells": [
  {
   "cell_type": "code",
   "execution_count": 174,
   "metadata": {},
   "outputs": [],
   "source": [
    "import yfinance as yf\n",
    "import pandas as pd\n",
    "import pandas_ta as ta\n",
    "import matplotlib.pyplot as plt\n",
    "import numpy as np\n",
    "from sklearn.preprocessing import MinMaxScaler, StandardScaler\n",
    "from sklearn.decomposition import PCA\n",
    "from sklearn.model_selection import train_test_split\n",
    "from sklearn.ensemble import RandomForestRegressor, GradientBoostingRegressor\n",
    "from sklearn.metrics import mean_squared_error, accuracy_score\n",
    "import seaborn as sns\n",
    "from tensorflow import keras\n",
    "import tensorflow as tf\n",
    "from tensorflow.keras import layers\n",
    "import xgboost as xgb\n",
    "from sklearn.metrics import r2_score\n",
    "from sklearn.model_selection import KFold"
   ]
  },
  {
   "cell_type": "code",
   "execution_count": 175,
   "metadata": {},
   "outputs": [],
   "source": [
    "companies = [\n",
    "    \"NFLX\", \"TSLA\", \"ORCL\", \"CSCO\", \"CRM\", \"ADBE\", \"SNPS\", \"INTC\", \"AAPL\", \"MSFT\", \"GOOGL\", \"META\", \"AMZN\",\n",
    "    \"QCOM\", \"TXN\", \"AMAT\", \"NOW\", \"RNG\", \"HPE\", \"NVDA\", \"AMD\", \"IBM\", \"INTU\", \"LRCX\", \"MU\", \"ADSK\", \"PLTR\", \n",
    "    \"ZS\", \"PANW\", \"SNOW\", \"DDOG\", \"CRWD\", \"V\", \"MA\", \"C\", \"JPM\", \"WFC\", \"TROW\", \"SCHW\", \"CME\", \"MSCI\", \n",
    "    \"PYPL\", \"SQ\", \"SHOP\", \"AXP\", \"GS\", \"MS\", \"SPGI\", \"BLK\", \"BAC\", \"NKE\", \"LULU\", \"TJX\", \"COST\", \"HD\", \"LOW\",\n",
    "    \"TGT\", \"WMT\", \"BBY\", \"F\", \"GM\", \"DE\", \"RCL\", \"UAL\", \"DAL\", \"AAL\", \"BKNG\", \"MAR\", \"HLT\", \"JNJ\", \"PFE\", \n",
    "    \"MRK\", \"AMGN\", \"ABBV\", \"CVS\", \"GSK\", \"AZN\", \"BMY\", \"LLY\", \"GILD\", \"MRNA\", \"REGN\", \"TMO\", \"ISRG\", \"SYK\", \n",
    "    \"BDX\", \"DHR\", \"KO\", \"PEP\", \"PG\", \"CLX\", \"CAG\", \"SJM\", \"CPB\", \"DIS\", \"EA\", \"MO\", \"CL\", \"EL\", \"KHC\", \n",
    "    \"UL\", \"NSRGY\", \"COTY\", \"MCD\", \"YUM\", \"SBUX\", \"DASH\", \"WBA\", \"XOM\", \"CVX\", \"SLB\", \"OXY\", \"PXD\", \"COP\", \n",
    "    \"BKR\", \"VLO\", \"PSX\", \"APD\", \"LIN\", \"DOW\", \"DD\", \"SHW\", \"PPG\", \"NOC\", \"LMT\", \"GD\", \"RTX\", \"BA\", \"GE\", \n",
    "    \"CAT\", \"MMM\", \"HON\", \"ITW\", \"EMR\", \"DHR\", \"UNH\", \"CI\", \"HUM\", \"ANTM\", \"CNC\"\n",
    "]\n"
   ]
  },
  {
   "cell_type": "code",
   "execution_count": 188,
   "metadata": {},
   "outputs": [],
   "source": [
    "data = pd.DataFrame()\n",
    "target_classification = pd.DataFrame()"
   ]
  },
  {
   "cell_type": "code",
   "execution_count": 177,
   "metadata": {},
   "outputs": [],
   "source": [
    "def remove_outliers(data, column):\n",
    "    Q1 = data[column].quantile(0.25)\n",
    "    Q3 = data[column].quantile(0.75)\n",
    "    IQR = Q3 - Q1\n",
    "    lower_bound = Q1 - 1.5 * IQR\n",
    "    upper_bound = Q3 + 1.5 * IQR\n",
    "    return data[(data[column] >= lower_bound) & (data[column] <= upper_bound)]"
   ]
  },
  {
   "cell_type": "code",
   "execution_count": 178,
   "metadata": {},
   "outputs": [],
   "source": [
    "def scale_data(uncscaled_data):\n",
    "       price_columns = ['Open', 'High', 'Low', 'Close']\n",
    "       technical_indicators = ['SMA15', 'EMA5',\n",
    "              'RSI15', 'BB_upper', 'BB_lower', 'MACD', 'MACD_signal', 'OBV', 'ADX',\n",
    "              'Aroon_Up', 'Aroon_Down']\n",
    "       volume_column = 'Volume'\n",
    "       \n",
    "       for col in price_columns:\n",
    "              uncscaled_data = remove_outliers(uncscaled_data, col)\n",
    "       \n",
    "       min_max_scaler = MinMaxScaler()\n",
    "       standard_scaler = StandardScaler()\n",
    "\n",
    "       uncscaled_data[price_columns] = standard_scaler.fit_transform(uncscaled_data[price_columns])\n",
    "\n",
    "       uncscaled_data[volume_column] = np.log1p(uncscaled_data[volume_column])  \n",
    "       uncscaled_data[[volume_column]] = standard_scaler.fit_transform(uncscaled_data[[volume_column]])\n",
    "\n",
    "       uncscaled_data[technical_indicators] = standard_scaler.fit_transform(uncscaled_data[technical_indicators])              #Chnaged to minmax scaler from standard\n",
    "\n",
    "       return uncscaled_data\n",
    "\n"
   ]
  },
  {
   "cell_type": "code",
   "execution_count": 179,
   "metadata": {},
   "outputs": [],
   "source": [
    "def calculate_tech_ind(curr, data):\n",
    "\n",
    "    data['SMA15'] = ta.sma(curr['Close'], length=15)  # Simple Moving Average\n",
    "    data['EMA5'] = ta.ema(curr['Close'], length=5)    # Exponential Moving Average\n",
    "    data['RSI15'] = ta.rsi(curr['Close'], length=15)  # Relative Strength Index\n",
    "\n",
    "    # Bollinger Bands: Measures volatility with a moving average and standard deviations\n",
    "    data['BB_upper'], data['BB_lower'] = ta.bbands(curr['Close'], length=56, std=2).iloc[:, [0, 2]].T.values\n",
    "\n",
    "    # MACD and Signal Line: Trend-following momentum indicator\n",
    "    data['MACD'], data['MACD_signal'] = ta.macd(curr['Close']).iloc[:, [0, 1]].T.values\n",
    "\n",
    "    # On-Balance Volume: Volume-based trend indicator\n",
    "    data['OBV'] = ta.obv(curr['Close'], curr['Volume'])\n",
    "\n",
    "    # ADX (Average Directional Index): Measures trend strength\n",
    "    data['ADX'] = ta.adx(curr['High'], curr['Low'], curr['Close']).iloc[:, 0]\n",
    "\n",
    "    # Aroon Oscillator: Identifies trend direction and strength\n",
    "    data['Aroon_Up'], data['Aroon_Down'] = ta.aroon(curr['High'], curr['Low']).iloc[:, [0, 1]].T.values\n",
    "    \n",
    "    uncleaned_data = pd.concat([curr, data], axis = 0)\n",
    "\n",
    "    uncleaned_data = uncleaned_data.iloc[14:, :]\n",
    "\n",
    "    uncleaned_data.fillna(method='ffill', inplace=True)\n",
    "\n",
    "    uncleaned_data.fillna(method='bfill', inplace=True)\n",
    "\n",
    "    scaled_data = scale_data(uncleaned_data)\n",
    "\n",
    "    #result_df = final_pcas(scaled_data)\n",
    "\n",
    "    return scaled_data"
   ]
  },
  {
   "cell_type": "code",
   "execution_count": null,
   "metadata": {},
   "outputs": [
    {
     "name": "stdout",
     "output_type": "stream",
     "text": [
      "EMR\n"
     ]
    },
    {
     "name": "stderr",
     "output_type": "stream",
     "text": [
      "[*********************100%***********************]  1 of 1 completed\n",
      "C:\\Users\\Nishc\\AppData\\Local\\Temp\\ipykernel_38560\\2595796236.py:11: FutureWarning: The behavior of `series[i:j]` with an integer-dtype index is deprecated. In a future version, this will be treated as *label-based* indexing, consistent with e.g. `series[i]` lookups. To retain the old behavior, use `series.iloc[i:j]`. To get the future behavior, use `series.loc[i:j]`.\n",
      "  data['MACD'], data['MACD_signal'] = ta.macd(curr['Close']).iloc[:, [0, 1]].T.values\n"
     ]
    },
    {
     "name": "stdout",
     "output_type": "stream",
     "text": [
      "DHR\n"
     ]
    },
    {
     "name": "stderr",
     "output_type": "stream",
     "text": [
      "[*********************100%***********************]  1 of 1 completed\n",
      "C:\\Users\\Nishc\\AppData\\Local\\Temp\\ipykernel_38560\\2595796236.py:11: FutureWarning: The behavior of `series[i:j]` with an integer-dtype index is deprecated. In a future version, this will be treated as *label-based* indexing, consistent with e.g. `series[i]` lookups. To retain the old behavior, use `series.iloc[i:j]`. To get the future behavior, use `series.loc[i:j]`.\n",
      "  data['MACD'], data['MACD_signal'] = ta.macd(curr['Close']).iloc[:, [0, 1]].T.values\n"
     ]
    },
    {
     "name": "stdout",
     "output_type": "stream",
     "text": [
      "UNH\n"
     ]
    },
    {
     "name": "stderr",
     "output_type": "stream",
     "text": [
      "[*********************100%***********************]  1 of 1 completed\n",
      "C:\\Users\\Nishc\\AppData\\Local\\Temp\\ipykernel_38560\\2595796236.py:11: FutureWarning: The behavior of `series[i:j]` with an integer-dtype index is deprecated. In a future version, this will be treated as *label-based* indexing, consistent with e.g. `series[i]` lookups. To retain the old behavior, use `series.iloc[i:j]`. To get the future behavior, use `series.loc[i:j]`.\n",
      "  data['MACD'], data['MACD_signal'] = ta.macd(curr['Close']).iloc[:, [0, 1]].T.values\n"
     ]
    },
    {
     "name": "stdout",
     "output_type": "stream",
     "text": [
      "CI\n"
     ]
    },
    {
     "name": "stderr",
     "output_type": "stream",
     "text": [
      "[*********************100%***********************]  1 of 1 completed\n",
      "C:\\Users\\Nishc\\AppData\\Local\\Temp\\ipykernel_38560\\2595796236.py:11: FutureWarning: The behavior of `series[i:j]` with an integer-dtype index is deprecated. In a future version, this will be treated as *label-based* indexing, consistent with e.g. `series[i]` lookups. To retain the old behavior, use `series.iloc[i:j]`. To get the future behavior, use `series.loc[i:j]`.\n",
      "  data['MACD'], data['MACD_signal'] = ta.macd(curr['Close']).iloc[:, [0, 1]].T.values\n",
      "[*********************100%***********************]  1 of 1 completed\n",
      "\n",
      "1 Failed download:\n",
      "['ANTM']: YFTzMissingError('$%ticker%: possibly delisted; no timezone found')\n"
     ]
    },
    {
     "name": "stdout",
     "output_type": "stream",
     "text": [
      "HUM\n",
      "'NoneType' object has no attribute 'iloc' ANTM\n"
     ]
    },
    {
     "name": "stderr",
     "output_type": "stream",
     "text": [
      "[*********************100%***********************]  1 of 1 completed\n",
      "C:\\Users\\Nishc\\AppData\\Local\\Temp\\ipykernel_38560\\2595796236.py:11: FutureWarning: The behavior of `series[i:j]` with an integer-dtype index is deprecated. In a future version, this will be treated as *label-based* indexing, consistent with e.g. `series[i]` lookups. To retain the old behavior, use `series.iloc[i:j]`. To get the future behavior, use `series.loc[i:j]`.\n",
      "  data['MACD'], data['MACD_signal'] = ta.macd(curr['Close']).iloc[:, [0, 1]].T.values\n"
     ]
    },
    {
     "name": "stdout",
     "output_type": "stream",
     "text": [
      "CNC\n"
     ]
    }
   ],
   "source": [
    "for i in companies:\n",
    "    try:\n",
    "\n",
    "        curr = yf.download(i, period=\"max\")\n",
    "\n",
    "        curr = curr.reset_index()\n",
    "\n",
    "        curr.columns = [col[0] for col in curr.columns]\n",
    "\n",
    "        curr.drop(columns=['Date'], inplace=True)\n",
    "        empty_data = pd.DataFrame()\n",
    "        result_df = calculate_tech_ind(curr, empty_data)\n",
    "        data = pd.concat([data, result_df], ignore_index=True)\n",
    "\n",
    "    except Exception as e:\n",
    "        print(e, i)"
   ]
  },
  {
   "cell_type": "code",
   "execution_count": 151,
   "metadata": {},
   "outputs": [],
   "source": [
    "scaled_data = data"
   ]
  },
  {
   "cell_type": "code",
   "execution_count": 152,
   "metadata": {},
   "outputs": [
    {
     "name": "stdout",
     "output_type": "stream",
     "text": [
      "Adj Close: Min = 0.0015667451079934835, Max = 4715.0, Range = 4714.998433254892\n",
      "Close: Min = -3.110162698763613, Max = 3.4874372067256494, Range = 6.597599905489263\n",
      "High: Min = -3.0793390770817335, Max = 3.5592350111802666, Range = 6.638574088262001\n",
      "Low: Min = -3.0754512710766657, Max = 3.481155405715129, Range = 6.5566066767917945\n",
      "Open: Min = -3.079132195511268, Max = 3.834453850541739, Range = 6.913586046053007\n",
      "Volume: Min = -28.20148166433643, Max = 9.743928853796808, Range = 37.94541051813324\n",
      "SMA15: Min = -3.5291134044725507, Max = 9.738713550949035, Range = 13.267826955421585\n",
      "EMA5: Min = -3.6057521969223325, Max = 9.741758437838033, Range = 13.347510634760365\n",
      "RSI15: Min = -5.32359583049079, Max = 5.115537992674431, Range = 10.439133823165221\n",
      "BB_upper: Min = -3.4455641171804463, Max = 10.5243958292596, Range = 13.969959946440046\n",
      "BB_lower: Min = -2.894946079012661, Max = 9.676511839993143, Range = 12.571457919005804\n",
      "MACD: Min = -29.8467795668196, Max = 18.02536483930565, Range = 47.872144406125244\n",
      "MACD_signal: Min = -39.991469549234345, Max = 23.481159157670128, Range = 63.47262870690447\n",
      "OBV: Min = -5.391552349208903, Max = 5.222350681852348, Range = 10.613903031061252\n",
      "ADX: Min = -2.920546927762759, Max = 7.5004259416538925, Range = 10.420972869416651\n",
      "Aroon_Up: Min = -2.111954381123705, Max = 2.4745563316555304, Range = 4.586510712779235\n",
      "Aroon_Down: Min = -2.4249640063640494, Max = 2.0983427711874203, Range = 4.52330677755147\n"
     ]
    }
   ],
   "source": [
    "def print_column_ranges(data):\n",
    "    for col in data.columns:\n",
    "        col_min = data[col].min()\n",
    "        col_max = data[col].max()\n",
    "        col_range = col_max - col_min\n",
    "        print(f\"{col}: Min = {col_min}, Max = {col_max}, Range = {col_range}\")\n",
    "\n",
    "print_column_ranges(data)\n"
   ]
  },
  {
   "cell_type": "code",
   "execution_count": 135,
   "metadata": {},
   "outputs": [
    {
     "data": {
      "text/plain": [
       "(2447926, 17)"
      ]
     },
     "execution_count": 135,
     "metadata": {},
     "output_type": "execute_result"
    }
   ],
   "source": [
    "scaled_data.shape"
   ]
  },
  {
   "cell_type": "code",
   "execution_count": 191,
   "metadata": {},
   "outputs": [],
   "source": [
    "target_reg = scaled_data['Close']\n",
    "target_classification = (scaled_data['Close'].shift(-1) > scaled_data['Close']).astype(int)"
   ]
  },
  {
   "cell_type": "code",
   "execution_count": 184,
   "metadata": {},
   "outputs": [],
   "source": [
    "input = scaled_data.drop(columns=['Low', 'Open','SMA15', 'BB_lower', 'BB_upper', 'Adj Close', 'Close', 'OBV'])"
   ]
  },
  {
   "cell_type": "code",
   "execution_count": 192,
   "metadata": {},
   "outputs": [
    {
     "name": "stdout",
     "output_type": "stream",
     "text": [
      "(2447926, 9)\n",
      "(2447926,)\n"
     ]
    }
   ],
   "source": [
    "print(input.shape)\n",
    "print(target_classification.shape)"
   ]
  },
  {
   "cell_type": "code",
   "execution_count": 156,
   "metadata": {},
   "outputs": [],
   "source": [
    "X_train_reg, X_test_reg, y_train_reg, y_test_reg = train_test_split(input, target_reg, test_size=0.2, random_state=42)"
   ]
  },
  {
   "cell_type": "code",
   "execution_count": 193,
   "metadata": {},
   "outputs": [],
   "source": [
    "X_train_cal, X_test_cal, y_train_cal, y_test_cal = train_test_split(input, target_classification, test_size=0.2, random_state=42)"
   ]
  },
  {
   "cell_type": "code",
   "execution_count": null,
   "metadata": {},
   "outputs": [
    {
     "name": "stdout",
     "output_type": "stream",
     "text": [
      "(1958340, 9) (1958340,)\n",
      "(1958340, 9) (1958340,)\n"
     ]
    }
   ],
   "source": [
    "print(X_train_reg.shape, y_train_reg.shape)\n",
    "print(X_train_cal.shape, y_train_cal.shape)"
   ]
  },
  {
   "cell_type": "code",
   "execution_count": 159,
   "metadata": {},
   "outputs": [],
   "source": [
    "def final_pcas(data):\n",
    "       feature_columns = ['Open', 'High', 'Low', 'SMA15', 'EMA5',\n",
    "              'RSI15', 'BB_upper', 'BB_lower', 'OBV', 'ADX',\n",
    "              'Aroon_Up', 'Aroon_Down']\n",
    "\n",
    "       X = data[feature_columns]\n",
    "\n",
    "       pca = PCA(n_components=8)  \n",
    "       X_pca = pca.fit_transform(X)\n",
    "\n",
    "       explained_variance = pca.explained_variance_ratio_\n",
    "       cumulative_variance = np.cumsum(explained_variance)\n",
    "\n",
    "\n",
    "       n_components_to_keep = np.argmax(cumulative_variance >= 0.90) \n",
    "       pca_final = PCA(n_components=n_components_to_keep)\n",
    "       X_final = pca_final.fit_transform(X)\n",
    "\n",
    "       pca_columns = [f'PC{i+1}' for i in range(n_components_to_keep)]\n",
    "       pca_df = pd.DataFrame(data=X_final, columns=pca_columns)\n",
    "       data = pd.DataFrame(data=data, columns=['MACD', 'MACD_signal'])                                   #Cost was removed from here\n",
    "       result_df = pd.concat([data.reset_index(drop=True), pca_df.reset_index(drop=True)], axis=1)\n",
    "\n",
    "       return result_df\n"
   ]
  },
  {
   "cell_type": "code",
   "execution_count": null,
   "metadata": {},
   "outputs": [],
   "source": [
    "#data = final_pcas(data)"
   ]
  },
  {
   "cell_type": "code",
   "execution_count": 194,
   "metadata": {},
   "outputs": [
    {
     "data": {
      "image/png": "[encoded data removed]",
      "text/plain": [
       "<Figure size 1200x1000 with 2 Axes>"
      ]
     },
     "metadata": {},
     "output_type": "display_data"
    }
   ],
   "source": [
    "correlation_matrix = input.corr()\n",
    "\n",
    "# Set up the matplotlib figure\n",
    "plt.figure(figsize=(12, 10))\n",
    "\n",
    "# Create a heatmap using seaborn\n",
    "sns.heatmap(correlation_matrix, annot=True, fmt=\".2f\", cmap='coolwarm', \n",
    "            square=True, cbar_kws={\"shrink\": .8}, linewidths=.5)\n",
    "\n",
    "# Title and show the plot\n",
    "plt.title('Correlation Matrix of Technical Indicators')\n",
    "plt.show()\n"
   ]
  },
  {
   "cell_type": "code",
   "execution_count": 161,
   "metadata": {},
   "outputs": [
    {
     "name": "stdout",
     "output_type": "stream",
     "text": [
      "[9.9817508e-01 7.4674812e-05 4.3788255e-04 3.1011007e-04 3.2252882e-04\n",
      " 1.1105625e-04 1.4183344e-04 5.5305565e-05 3.7156325e-04] Index(['High'], dtype='object')\n"
     ]
    }
   ],
   "source": [
    "# Train XGBoost\n",
    "xgb_model = xgb.XGBRegressor(objective='reg:squarederror', random_state=42)\n",
    "xgb_model.fit(X_train_reg, y_train_reg)\n",
    "\n",
    "# Get feature importance scores\n",
    "feature_importance = xgb_model.feature_importances_\n",
    "important_features = X_train_reg.columns[feature_importance > 0.01]\n",
    "print(feature_importance, important_features)"
   ]
  },
  {
   "cell_type": "code",
   "execution_count": 162,
   "metadata": {},
   "outputs": [
    {
     "name": "stdout",
     "output_type": "stream",
     "text": [
      "Mean Squared Error (MSE): 0.0006059737087139056\n",
      "Root Mean Squared Error (RMSE): 0.024616533239144492\n",
      "R² Score: 0.999368230545666\n"
     ]
    }
   ],
   "source": [
    "model = xgb.XGBRegressor(objective='reg:squarederror', random_state=42)\n",
    "model.fit(X_train_reg, y_train_reg)\n",
    "\n",
    "# Predict on the test set\n",
    "y_pred = model.predict(X_test_reg)\n",
    "\n",
    "# Evaluate the model\n",
    "mse = mean_squared_error(y_test_reg, y_pred)\n",
    "rmse = np.sqrt(mse)\n",
    "\n",
    "print(f'Mean Squared Error (MSE): {mse}')\n",
    "print(f'Root Mean Squared Error (RMSE): {rmse}')\n",
    "r2 = r2_score(y_test_reg, y_pred)\n",
    "print(f'R² Score: {r2}')"
   ]
  },
  {
   "cell_type": "code",
   "execution_count": 163,
   "metadata": {},
   "outputs": [
    {
     "name": "stdout",
     "output_type": "stream",
     "text": [
      "Average MSE: 0.0006019735518684816\n",
      "Average RMSE: 0.02448179108959996\n",
      "Average R² Score: 0.9993715143318639\n"
     ]
    }
   ],
   "source": [
    "kf = KFold(n_splits=100, shuffle=True, random_state=42)\n",
    "mse_scores = []\n",
    "rmse_scores = []\n",
    "r2_scores = []\n",
    "\n",
    "for train_index, test_index in kf.split(X_train_reg):\n",
    "    X_train, X_val = X_train_reg.iloc[train_index], X_train_reg.iloc[test_index]\n",
    "    y_train, y_val = y_train_reg.iloc[train_index], y_train_reg.iloc[test_index]\n",
    "    \n",
    "    model = xgb.XGBRegressor(objective='reg:squarederror', random_state=42)\n",
    "    model.fit(X_train, y_train)\n",
    "    \n",
    "    y_pred = model.predict(X_val)\n",
    "    mse = mean_squared_error(y_val, y_pred)\n",
    "    rmse = np.sqrt(mse)\n",
    "    r2 = r2_score(y_val, y_pred)\n",
    "    \n",
    "    mse_scores.append(mse)\n",
    "    rmse_scores.append(rmse)\n",
    "    r2_scores.append(r2)\n",
    "\n",
    "\n",
    "# Print average scores\n",
    "print(f'Average MSE: {np.mean(mse_scores)}')\n",
    "print(f'Average RMSE: {np.mean(rmse_scores)}')\n",
    "print(f'Average R² Score: {np.mean(r2_scores)}')"
   ]
  },
  {
   "cell_type": "code",
   "execution_count": 164,
   "metadata": {},
   "outputs": [
    {
     "name": "stdout",
     "output_type": "stream",
     "text": [
      "Fitting 15 folds for each of 10 candidates, totalling 150 fits\n",
      "Best Parameters: {'subsample': 0.8, 'reg_lambda': 100, 'reg_alpha': 0.1, 'n_estimators': 40, 'max_depth': 5, 'learning_rate': 0.2, 'colsample_bytree': 0.8}\n",
      "Mean Squared Error (MSE): 0.0008519413654358332\n",
      "Root Mean Squared Error (RMSE): 0.029188034627837367\n",
      "R² Score: 0.9991117922711396\n"
     ]
    }
   ],
   "source": [
    "from sklearn.model_selection import RandomizedSearchCV\n",
    "import xgboost as xgb\n",
    "from sklearn.metrics import mean_squared_error\n",
    "import numpy as np\n",
    "\n",
    "param_grid = {\n",
    "    'n_estimators': [5, 10, 20, 25, 30, 35, 40],\n",
    "    'max_depth': [3, 4, 5],\n",
    "    'learning_rate': [0.01, 0.1, 0.2],\n",
    "    'subsample': [0.6, 0.8, 1.0],\n",
    "    'colsample_bytree': [0.6, 0.8, 1.0],\n",
    "    'reg_alpha': [0, 0.1, 1],  # L1 regularization\n",
    "    'reg_lambda': [1, 10, 100]  # L2 regularization\n",
    "}\n",
    "\n",
    "grid_search = RandomizedSearchCV(estimator=xgb.XGBRegressor(objective='reg:squarederror', random_state=42),\n",
    "                           param_distributions=param_grid,\n",
    "                           scoring='r2',\n",
    "                           cv=15,\n",
    "                           verbose=1)\n",
    "\n",
    "grid_search.fit(X_train_reg, y_train_reg)\n",
    "print(f\"Best Parameters: {grid_search.best_params_}\")\n",
    "\n",
    "best_model = grid_search.best_estimator_\n",
    "y_pred = best_model.predict(X_test_reg)\n",
    "mse = mean_squared_error(y_test_reg, y_pred)\n",
    "rmse = np.sqrt(mse)\n",
    "r2 = r2_score(y_test_reg, y_pred)\n",
    "print(f'Mean Squared Error (MSE): {mse}')\n",
    "print(f'Root Mean Squared Error (RMSE): {rmse}')\n",
    "print(f'R² Score: {r2}')"
   ]
  },
  {
   "cell_type": "code",
   "execution_count": 165,
   "metadata": {},
   "outputs": [
    {
     "data": {
      "text/plain": [
       "xgboost.sklearn.XGBRegressor"
      ]
     },
     "execution_count": 165,
     "metadata": {},
     "output_type": "execute_result"
    }
   ],
   "source": [
    "type(best_model)"
   ]
  },
  {
   "cell_type": "code",
   "execution_count": 166,
   "metadata": {},
   "outputs": [
    {
     "data": {
      "text/plain": [
       "['model_reg.joblib']"
      ]
     },
     "execution_count": 166,
     "metadata": {},
     "output_type": "execute_result"
    }
   ],
   "source": [
    "from joblib import dump\n",
    "\n",
    "# Save the model\n",
    "dump(best_model, 'model_reg.joblib')"
   ]
  },
  {
   "cell_type": "markdown",
   "metadata": {},
   "source": [
    "-----------\n",
    "Classifier\n",
    "-----------"
   ]
  },
  {
   "cell_type": "code",
   "execution_count": 171,
   "metadata": {},
   "outputs": [
    {
     "name": "stdout",
     "output_type": "stream",
     "text": [
      "Accuracy: 0.7731246400019608\n"
     ]
    }
   ],
   "source": [
    "model_c = xgb.XGBClassifier(random_state=42)\n",
    "model_c.fit(X_train_cal, y_train_cal)\n",
    "y_pred = model_c.predict(X_test_cal)\n",
    "\n",
    "accuracy = accuracy_score(y_test_cal, y_pred)\n",
    "print(f'Accuracy: {accuracy}')"
   ]
  },
  {
   "cell_type": "markdown",
   "metadata": {},
   "source": [
    "-----------\n",
    "Regressor\n",
    "----------"
   ]
  },
  {
   "cell_type": "code",
   "execution_count": 170,
   "metadata": {},
   "outputs": [
    {
     "name": "stdout",
     "output_type": "stream",
     "text": [
      "Average Accuracy: 0.7730567725726891\n"
     ]
    }
   ],
   "source": [
    "kf = KFold(n_splits=5, shuffle=True, random_state=42)\n",
    "accuracy_scores = []\n",
    "\n",
    "for train_index, val_index in kf.split(X_train_cal):\n",
    "    X_train, X_val = X_train_cal.iloc[train_index], X_train_cal.iloc[val_index]\n",
    "    y_train, y_val = y_train_cal.iloc[train_index], y_train_cal.iloc[val_index]\n",
    "\n",
    "    model_c = xgb.XGBClassifier(random_state=42)\n",
    "    model_c.fit(X_train, y_train)\n",
    "    \n",
    "    y_pred = model_c.predict(X_val)\n",
    "    accuracy = accuracy_score(y_val, y_pred)\n",
    "    accuracy_scores.append(accuracy)\n",
    "\n",
    "print(f'Average Accuracy: {np.mean(accuracy_scores)}')"
   ]
  },
  {
   "cell_type": "code",
   "execution_count": 92,
   "metadata": {},
   "outputs": [
    {
     "name": "stdout",
     "output_type": "stream",
     "text": [
      "Fitting 5 folds for each of 2187 candidates, totalling 10935 fits\n",
      "Best Parameters: {'colsample_bytree': 0.8, 'learning_rate': 0.1, 'max_depth': 7, 'n_estimators': 200, 'reg_alpha': 1, 'reg_lambda': 1, 'subsample': 0.8}\n",
      "Accuracy: 0.7311960825219682\n"
     ]
    }
   ],
   "source": [
    "from sklearn.model_selection import GridSearchCV\n",
    "import xgboost as xgb\n",
    "\n",
    "param_grid = {\n",
    "    'n_estimators': [50, 100, 200],\n",
    "    'max_depth': [3, 5, 7],\n",
    "    'learning_rate': [0.01, 0.1, 0.2],\n",
    "    'subsample': [0.6, 0.8, 1.0],\n",
    "    'colsample_bytree': [0.6, 0.8, 1.0],\n",
    "    'reg_alpha': [0, 0.1, 1],  # L1 regularization\n",
    "    'reg_lambda': [1, 10, 100]  # L2 regularization\n",
    "}\n",
    "\n",
    "grid_search = GridSearchCV(estimator=xgb.XGBClassifier(random_state=42),\n",
    "                           param_grid=param_grid,\n",
    "                           scoring='accuracy',\n",
    "                           cv=5,\n",
    "                           verbose=1)\n",
    "\n",
    "grid_search.fit(X_train_cal, y_train_cal)\n",
    "print(f\"Best Parameters: {grid_search.best_params_}\")\n",
    "\n",
    "best_model = grid_search.best_estimator_\n",
    "y_pred = best_model.predict(X_test_cal)\n",
    "accuracy = accuracy_score(y_test_cal, y_pred)\n",
    "print(f'Accuracy: {accuracy}')\n"
   ]
  },
  {
   "cell_type": "code",
   "execution_count": 169,
   "metadata": {},
   "outputs": [
    {
     "ename": "ValueError",
     "evalue": "Classification metrics can't handle a mix of binary and continuous targets",
     "output_type": "error",
     "traceback": [
      "\u001b[1;31m---------------------------------------------------------------------------\u001b[0m",
      "\u001b[1;31mValueError\u001b[0m                                Traceback (most recent call last)",
      "Cell \u001b[1;32mIn[169], line 3\u001b[0m\n\u001b[0;32m      1\u001b[0m best_model \u001b[38;5;241m=\u001b[39m grid_search\u001b[38;5;241m.\u001b[39mbest_estimator_\n\u001b[0;32m      2\u001b[0m y_pred \u001b[38;5;241m=\u001b[39m best_model\u001b[38;5;241m.\u001b[39mpredict(X_test_cal)\n\u001b[1;32m----> 3\u001b[0m accuracy \u001b[38;5;241m=\u001b[39m \u001b[43maccuracy_score\u001b[49m\u001b[43m(\u001b[49m\u001b[43my_test_cal\u001b[49m\u001b[43m,\u001b[49m\u001b[43m \u001b[49m\u001b[43my_pred\u001b[49m\u001b[43m)\u001b[49m\n\u001b[0;32m      4\u001b[0m \u001b[38;5;28mprint\u001b[39m(\u001b[38;5;124mf\u001b[39m\u001b[38;5;124m'\u001b[39m\u001b[38;5;124mAccuracy: \u001b[39m\u001b[38;5;132;01m{\u001b[39;00maccuracy\u001b[38;5;132;01m}\u001b[39;00m\u001b[38;5;124m'\u001b[39m)\n",
      "File \u001b[1;32mc:\\Users\\Nishc\\anaconda3\\envs\\TensorFlow_ENV\\lib\\site-packages\\sklearn\\utils\\_param_validation.py:213\u001b[0m, in \u001b[0;36mvalidate_params.<locals>.decorator.<locals>.wrapper\u001b[1;34m(*args, **kwargs)\u001b[0m\n\u001b[0;32m    207\u001b[0m \u001b[38;5;28;01mtry\u001b[39;00m:\n\u001b[0;32m    208\u001b[0m     \u001b[38;5;28;01mwith\u001b[39;00m config_context(\n\u001b[0;32m    209\u001b[0m         skip_parameter_validation\u001b[38;5;241m=\u001b[39m(\n\u001b[0;32m    210\u001b[0m             prefer_skip_nested_validation \u001b[38;5;129;01mor\u001b[39;00m global_skip_validation\n\u001b[0;32m    211\u001b[0m         )\n\u001b[0;32m    212\u001b[0m     ):\n\u001b[1;32m--> 213\u001b[0m         \u001b[38;5;28;01mreturn\u001b[39;00m func(\u001b[38;5;241m*\u001b[39margs, \u001b[38;5;241m*\u001b[39m\u001b[38;5;241m*\u001b[39mkwargs)\n\u001b[0;32m    214\u001b[0m \u001b[38;5;28;01mexcept\u001b[39;00m InvalidParameterError \u001b[38;5;28;01mas\u001b[39;00m e:\n\u001b[0;32m    215\u001b[0m     \u001b[38;5;66;03m# When the function is just a wrapper around an estimator, we allow\u001b[39;00m\n\u001b[0;32m    216\u001b[0m     \u001b[38;5;66;03m# the function to delegate validation to the estimator, but we replace\u001b[39;00m\n\u001b[0;32m    217\u001b[0m     \u001b[38;5;66;03m# the name of the estimator by the name of the function in the error\u001b[39;00m\n\u001b[0;32m    218\u001b[0m     \u001b[38;5;66;03m# message to avoid confusion.\u001b[39;00m\n\u001b[0;32m    219\u001b[0m     msg \u001b[38;5;241m=\u001b[39m re\u001b[38;5;241m.\u001b[39msub(\n\u001b[0;32m    220\u001b[0m         \u001b[38;5;124mr\u001b[39m\u001b[38;5;124m\"\u001b[39m\u001b[38;5;124mparameter of \u001b[39m\u001b[38;5;124m\\\u001b[39m\u001b[38;5;124mw+ must be\u001b[39m\u001b[38;5;124m\"\u001b[39m,\n\u001b[0;32m    221\u001b[0m         \u001b[38;5;124mf\u001b[39m\u001b[38;5;124m\"\u001b[39m\u001b[38;5;124mparameter of \u001b[39m\u001b[38;5;132;01m{\u001b[39;00mfunc\u001b[38;5;241m.\u001b[39m\u001b[38;5;18m__qualname__\u001b[39m\u001b[38;5;132;01m}\u001b[39;00m\u001b[38;5;124m must be\u001b[39m\u001b[38;5;124m\"\u001b[39m,\n\u001b[0;32m    222\u001b[0m         \u001b[38;5;28mstr\u001b[39m(e),\n\u001b[0;32m    223\u001b[0m     )\n",
      "File \u001b[1;32mc:\\Users\\Nishc\\anaconda3\\envs\\TensorFlow_ENV\\lib\\site-packages\\sklearn\\metrics\\_classification.py:231\u001b[0m, in \u001b[0;36maccuracy_score\u001b[1;34m(y_true, y_pred, normalize, sample_weight)\u001b[0m\n\u001b[0;32m    229\u001b[0m xp, _, device \u001b[38;5;241m=\u001b[39m get_namespace_and_device(y_true, y_pred, sample_weight)\n\u001b[0;32m    230\u001b[0m \u001b[38;5;66;03m# Compute accuracy for each possible representation\u001b[39;00m\n\u001b[1;32m--> 231\u001b[0m y_type, y_true, y_pred \u001b[38;5;241m=\u001b[39m \u001b[43m_check_targets\u001b[49m\u001b[43m(\u001b[49m\u001b[43my_true\u001b[49m\u001b[43m,\u001b[49m\u001b[43m \u001b[49m\u001b[43my_pred\u001b[49m\u001b[43m)\u001b[49m\n\u001b[0;32m    232\u001b[0m check_consistent_length(y_true, y_pred, sample_weight)\n\u001b[0;32m    233\u001b[0m \u001b[38;5;28;01mif\u001b[39;00m y_type\u001b[38;5;241m.\u001b[39mstartswith(\u001b[38;5;124m\"\u001b[39m\u001b[38;5;124mmultilabel\u001b[39m\u001b[38;5;124m\"\u001b[39m):\n",
      "File \u001b[1;32mc:\\Users\\Nishc\\anaconda3\\envs\\TensorFlow_ENV\\lib\\site-packages\\sklearn\\metrics\\_classification.py:112\u001b[0m, in \u001b[0;36m_check_targets\u001b[1;34m(y_true, y_pred)\u001b[0m\n\u001b[0;32m    109\u001b[0m     y_type \u001b[38;5;241m=\u001b[39m {\u001b[38;5;124m\"\u001b[39m\u001b[38;5;124mmulticlass\u001b[39m\u001b[38;5;124m\"\u001b[39m}\n\u001b[0;32m    111\u001b[0m \u001b[38;5;28;01mif\u001b[39;00m \u001b[38;5;28mlen\u001b[39m(y_type) \u001b[38;5;241m>\u001b[39m \u001b[38;5;241m1\u001b[39m:\n\u001b[1;32m--> 112\u001b[0m     \u001b[38;5;28;01mraise\u001b[39;00m \u001b[38;5;167;01mValueError\u001b[39;00m(\n\u001b[0;32m    113\u001b[0m         \u001b[38;5;124m\"\u001b[39m\u001b[38;5;124mClassification metrics can\u001b[39m\u001b[38;5;124m'\u001b[39m\u001b[38;5;124mt handle a mix of \u001b[39m\u001b[38;5;132;01m{0}\u001b[39;00m\u001b[38;5;124m and \u001b[39m\u001b[38;5;132;01m{1}\u001b[39;00m\u001b[38;5;124m targets\u001b[39m\u001b[38;5;124m\"\u001b[39m\u001b[38;5;241m.\u001b[39mformat(\n\u001b[0;32m    114\u001b[0m             type_true, type_pred\n\u001b[0;32m    115\u001b[0m         )\n\u001b[0;32m    116\u001b[0m     )\n\u001b[0;32m    118\u001b[0m \u001b[38;5;66;03m# We can't have more than one value on y_type => The set is no more needed\u001b[39;00m\n\u001b[0;32m    119\u001b[0m y_type \u001b[38;5;241m=\u001b[39m y_type\u001b[38;5;241m.\u001b[39mpop()\n",
      "\u001b[1;31mValueError\u001b[0m: Classification metrics can't handle a mix of binary and continuous targets"
     ]
    }
   ],
   "source": [
    "best_model = grid_search.best_estimator_\n",
    "y_pred = best_model.predict(X_test_cal)\n",
    "accuracy = accuracy_score(y_test_cal, y_pred)\n",
    "print(f'Accuracy: {accuracy}')"
   ]
  },
  {
   "cell_type": "code",
   "execution_count": 94,
   "metadata": {},
   "outputs": [
    {
     "data": {
      "text/plain": [
       "['best_model_grid_cal_max.joblib']"
      ]
     },
     "execution_count": 94,
     "metadata": {},
     "output_type": "execute_result"
    }
   ],
   "source": [
    "dump(best_model, 'best_model_grid_cal_max.joblib')"
   ]
  },
  {
   "cell_type": "markdown",
   "metadata": {},
   "source": [
    "-------\n",
    "Deep Learning - Regressor\n",
    "-------"
   ]
  },
  {
   "cell_type": "code",
   "execution_count": 95,
   "metadata": {},
   "outputs": [
    {
     "name": "stderr",
     "output_type": "stream",
     "text": [
      "c:\\Users\\Nishc\\anaconda3\\envs\\TensorFlow_ENV\\lib\\site-packages\\keras\\engine\\data_adapter.py:1699: FutureWarning: The behavior of `series[i:j]` with an integer-dtype index is deprecated. In a future version, this will be treated as *label-based* indexing, consistent with e.g. `series[i]` lookups. To retain the old behavior, use `series.iloc[i:j]`. To get the future behavior, use `series.loc[i:j]`.\n",
      "  return t[start:end]\n"
     ]
    },
    {
     "name": "stdout",
     "output_type": "stream",
     "text": [
      "Epoch 1/100\n",
      "43620/43620 [==============================] - 221s 5ms/step - loss: 66.6901 - val_loss: 0.9188\n",
      "Epoch 2/100\n",
      "43620/43620 [==============================] - 187s 4ms/step - loss: 0.9118 - val_loss: 0.8198\n",
      "Epoch 3/100\n",
      "43620/43620 [==============================] - 195s 4ms/step - loss: 0.8909 - val_loss: 0.9134\n",
      "Epoch 4/100\n",
      "43620/43620 [==============================] - 188s 4ms/step - loss: 0.8507 - val_loss: 1.0969\n",
      "Epoch 5/100\n",
      "43620/43620 [==============================] - 191s 4ms/step - loss: 0.8388 - val_loss: 0.8355\n",
      "Epoch 6/100\n",
      "43620/43620 [==============================] - 199s 5ms/step - loss: 0.8215 - val_loss: 0.8874\n",
      "Epoch 7/100\n",
      "43620/43620 [==============================] - 197s 5ms/step - loss: 0.8089 - val_loss: 0.7095\n",
      "Epoch 8/100\n",
      "43620/43620 [==============================] - 204s 5ms/step - loss: 0.7915 - val_loss: 0.7432\n",
      "Epoch 9/100\n",
      "43620/43620 [==============================] - 205s 5ms/step - loss: 0.7735 - val_loss: 0.9114\n",
      "Epoch 10/100\n",
      "43620/43620 [==============================] - 202s 5ms/step - loss: 0.7664 - val_loss: 0.8511\n",
      "Epoch 11/100\n",
      "43620/43620 [==============================] - 192s 4ms/step - loss: 0.7625 - val_loss: 0.7123\n",
      "Epoch 12/100\n",
      "43620/43620 [==============================] - 194s 4ms/step - loss: 0.7530 - val_loss: 0.7992\n",
      "Epoch 13/100\n",
      "43620/43620 [==============================] - 197s 5ms/step - loss: 0.7411 - val_loss: 0.7203\n",
      "Epoch 14/100\n",
      "43620/43620 [==============================] - 192s 4ms/step - loss: 0.7297 - val_loss: 0.6934\n",
      "Epoch 15/100\n",
      "43620/43620 [==============================] - 202s 5ms/step - loss: 0.7234 - val_loss: 0.6514\n",
      "Epoch 16/100\n",
      "43620/43620 [==============================] - 197s 5ms/step - loss: 0.7125 - val_loss: 0.6991\n",
      "Epoch 17/100\n",
      "43620/43620 [==============================] - 248s 6ms/step - loss: 0.7042 - val_loss: 0.7881\n",
      "Epoch 18/100\n",
      "43620/43620 [==============================] - 279s 6ms/step - loss: 0.6977 - val_loss: 0.7514\n",
      "Epoch 19/100\n",
      "43620/43620 [==============================] - 288s 7ms/step - loss: 0.6940 - val_loss: 0.7128\n",
      "Epoch 20/100\n",
      "43620/43620 [==============================] - 282s 6ms/step - loss: 0.6880 - val_loss: 0.6547\n",
      "Epoch 21/100\n",
      "43620/43620 [==============================] - 284s 7ms/step - loss: 0.6829 - val_loss: 0.6131\n",
      "Epoch 22/100\n",
      "43620/43620 [==============================] - 289s 7ms/step - loss: 0.6793 - val_loss: 0.6281\n",
      "Epoch 23/100\n",
      "43620/43620 [==============================] - 238s 5ms/step - loss: 0.6754 - val_loss: 0.6071\n",
      "Epoch 24/100\n",
      "43620/43620 [==============================] - 198s 5ms/step - loss: 0.6742 - val_loss: 0.6424\n",
      "Epoch 25/100\n",
      "43620/43620 [==============================] - 204s 5ms/step - loss: 0.6709 - val_loss: 0.9064\n",
      "Epoch 26/100\n",
      "43620/43620 [==============================] - 205s 5ms/step - loss: 0.6658 - val_loss: 0.6021\n",
      "Epoch 27/100\n",
      "43620/43620 [==============================] - 205s 5ms/step - loss: 0.6654 - val_loss: 0.5947\n",
      "Epoch 28/100\n",
      "43620/43620 [==============================] - 206s 5ms/step - loss: 0.6610 - val_loss: 0.5838\n",
      "Epoch 29/100\n",
      "43620/43620 [==============================] - 148s 3ms/step - loss: 0.6558 - val_loss: 0.5927\n",
      "Epoch 30/100\n",
      "43620/43620 [==============================] - 122s 3ms/step - loss: 0.6535 - val_loss: 0.6120\n",
      "Epoch 31/100\n",
      "43620/43620 [==============================] - 118s 3ms/step - loss: 0.6497 - val_loss: 0.6845\n",
      "Epoch 32/100\n",
      "43620/43620 [==============================] - 119s 3ms/step - loss: 0.6472 - val_loss: 0.5826\n",
      "Epoch 33/100\n",
      "43620/43620 [==============================] - 122s 3ms/step - loss: 0.6417 - val_loss: 0.7472\n",
      "Epoch 34/100\n",
      "43620/43620 [==============================] - 125s 3ms/step - loss: 0.6381 - val_loss: 0.5650\n",
      "Epoch 35/100\n",
      "43620/43620 [==============================] - 120s 3ms/step - loss: 0.6298 - val_loss: 0.6751\n",
      "Epoch 36/100\n",
      "43620/43620 [==============================] - 120s 3ms/step - loss: 0.6233 - val_loss: 0.5635\n",
      "Epoch 37/100\n",
      "43620/43620 [==============================] - 124s 3ms/step - loss: 0.6121 - val_loss: 0.6129\n",
      "Epoch 38/100\n",
      "43620/43620 [==============================] - 120s 3ms/step - loss: 0.6082 - val_loss: 0.6248\n",
      "Epoch 39/100\n",
      "43620/43620 [==============================] - 116s 3ms/step - loss: 0.6059 - val_loss: 0.6420\n",
      "Epoch 40/100\n",
      "43620/43620 [==============================] - 120s 3ms/step - loss: 0.6409 - val_loss: 0.6039\n",
      "Epoch 41/100\n",
      "43620/43620 [==============================] - 124s 3ms/step - loss: 0.6300 - val_loss: 0.5763\n",
      "Epoch 42/100\n",
      "43620/43620 [==============================] - 120s 3ms/step - loss: 0.6250 - val_loss: 0.6323\n",
      "Epoch 43/100\n",
      "43620/43620 [==============================] - 122s 3ms/step - loss: 0.6191 - val_loss: 0.5648\n",
      "Epoch 44/100\n",
      "43620/43620 [==============================] - 119s 3ms/step - loss: 0.6141 - val_loss: 0.7119\n",
      "Epoch 45/100\n",
      "43620/43620 [==============================] - 124s 3ms/step - loss: 0.6078 - val_loss: 0.5436\n",
      "Epoch 46/100\n",
      "43620/43620 [==============================] - 121s 3ms/step - loss: 0.6057 - val_loss: 0.6051\n",
      "Epoch 47/100\n",
      "43620/43620 [==============================] - 123s 3ms/step - loss: 0.6001 - val_loss: 0.5520\n",
      "Epoch 48/100\n",
      "43620/43620 [==============================] - 118s 3ms/step - loss: 0.5994 - val_loss: 0.6539\n",
      "Epoch 49/100\n",
      "43620/43620 [==============================] - 120s 3ms/step - loss: 0.5951 - val_loss: 0.5614\n",
      "Epoch 50/100\n",
      "43620/43620 [==============================] - 121s 3ms/step - loss: 0.5916 - val_loss: 0.5574\n",
      "Epoch 51/100\n",
      "43620/43620 [==============================] - 124s 3ms/step - loss: 0.5922 - val_loss: 0.5710\n",
      "Epoch 52/100\n",
      "43620/43620 [==============================] - 127s 3ms/step - loss: 0.5888 - val_loss: 0.5322\n",
      "Epoch 53/100\n",
      "43620/43620 [==============================] - 121s 3ms/step - loss: 0.5874 - val_loss: 0.5465\n",
      "Epoch 54/100\n",
      "43620/43620 [==============================] - 121s 3ms/step - loss: 0.5854 - val_loss: 0.5359\n",
      "Epoch 55/100\n",
      "43620/43620 [==============================] - 124s 3ms/step - loss: 0.5837 - val_loss: 0.6332\n",
      "Epoch 56/100\n",
      "43620/43620 [==============================] - 119s 3ms/step - loss: 0.5837 - val_loss: 0.5470\n",
      "Epoch 57/100\n",
      "43620/43620 [==============================] - 120s 3ms/step - loss: 0.5818 - val_loss: 0.5471\n",
      "Epoch 58/100\n",
      "43620/43620 [==============================] - 123s 3ms/step - loss: 0.5800 - val_loss: 0.5233\n",
      "Epoch 59/100\n",
      "43620/43620 [==============================] - 121s 3ms/step - loss: 0.5776 - val_loss: 1.5187\n",
      "Epoch 60/100\n",
      "43620/43620 [==============================] - 122s 3ms/step - loss: 0.5754 - val_loss: 0.6105\n",
      "Epoch 61/100\n",
      "43620/43620 [==============================] - 125s 3ms/step - loss: 0.5739 - val_loss: 0.5779\n",
      "Epoch 62/100\n",
      "43620/43620 [==============================] - 123s 3ms/step - loss: 0.5697 - val_loss: 0.5248\n",
      "Epoch 63/100\n",
      "43620/43620 [==============================] - 123s 3ms/step - loss: 0.5677 - val_loss: 0.5554\n",
      "Epoch 64/100\n",
      "43620/43620 [==============================] - 124s 3ms/step - loss: 0.5667 - val_loss: 0.5197\n",
      "Epoch 65/100\n",
      "43620/43620 [==============================] - 120s 3ms/step - loss: 0.5643 - val_loss: 0.5228\n",
      "Epoch 66/100\n",
      "43620/43620 [==============================] - 123s 3ms/step - loss: 0.5624 - val_loss: 0.5142\n",
      "Epoch 67/100\n",
      "43620/43620 [==============================] - 123s 3ms/step - loss: 0.5604 - val_loss: 0.5344\n",
      "Epoch 68/100\n",
      "43620/43620 [==============================] - 124s 3ms/step - loss: 0.5604 - val_loss: 0.5291\n",
      "Epoch 69/100\n",
      "43620/43620 [==============================] - 118s 3ms/step - loss: 0.5551 - val_loss: 0.6346\n",
      "Epoch 70/100\n",
      "43620/43620 [==============================] - 121s 3ms/step - loss: 0.5599 - val_loss: 0.5264\n",
      "Epoch 71/100\n",
      "43620/43620 [==============================] - 123s 3ms/step - loss: 0.5518 - val_loss: 0.4956\n",
      "Epoch 72/100\n",
      "43620/43620 [==============================] - 119s 3ms/step - loss: 0.5513 - val_loss: 0.4942\n",
      "Epoch 73/100\n",
      "43620/43620 [==============================] - 121s 3ms/step - loss: 0.5492 - val_loss: 0.4930\n",
      "Epoch 74/100\n",
      "43620/43620 [==============================] - 121s 3ms/step - loss: 0.5480 - val_loss: 0.6933\n",
      "Epoch 75/100\n",
      "43620/43620 [==============================] - 120s 3ms/step - loss: 0.5396 - val_loss: 0.5341\n",
      "Epoch 76/100\n",
      "43620/43620 [==============================] - 121s 3ms/step - loss: 0.5345 - val_loss: 0.5495\n",
      "Epoch 77/100\n",
      "43620/43620 [==============================] - 121s 3ms/step - loss: 0.5356 - val_loss: 0.7310\n",
      "Epoch 78/100\n",
      "43620/43620 [==============================] - 120s 3ms/step - loss: 0.5315 - val_loss: 0.5697\n",
      "Epoch 79/100\n",
      "43620/43620 [==============================] - 123s 3ms/step - loss: 0.5282 - val_loss: 0.5237\n",
      "Epoch 80/100\n",
      "43620/43620 [==============================] - 122s 3ms/step - loss: 0.5266 - val_loss: 0.4701\n",
      "Epoch 81/100\n",
      "43620/43620 [==============================] - 122s 3ms/step - loss: 0.5234 - val_loss: 0.6792\n",
      "Epoch 82/100\n",
      "43620/43620 [==============================] - 122s 3ms/step - loss: 0.5463 - val_loss: 0.4679\n",
      "Epoch 83/100\n",
      "43620/43620 [==============================] - 123s 3ms/step - loss: 0.5344 - val_loss: 0.7410\n",
      "Epoch 84/100\n",
      "43620/43620 [==============================] - 123s 3ms/step - loss: 0.5206 - val_loss: 0.5215\n",
      "Epoch 85/100\n",
      "43620/43620 [==============================] - 134s 3ms/step - loss: 0.5129 - val_loss: 0.4851\n",
      "Epoch 86/100\n",
      "43620/43620 [==============================] - 139s 3ms/step - loss: 0.5236 - val_loss: 0.6120\n",
      "Epoch 87/100\n",
      "43620/43620 [==============================] - 133s 3ms/step - loss: 0.5128 - val_loss: 0.4868\n",
      "Epoch 88/100\n",
      "43620/43620 [==============================] - 129s 3ms/step - loss: 0.5604 - val_loss: 0.4975\n",
      "Epoch 89/100\n",
      "43620/43620 [==============================] - 128s 3ms/step - loss: 0.5229 - val_loss: 0.4657\n",
      "Epoch 90/100\n",
      "43620/43620 [==============================] - 130s 3ms/step - loss: 0.5157 - val_loss: 0.4724\n",
      "Epoch 91/100\n",
      "43620/43620 [==============================] - 127s 3ms/step - loss: 0.5331 - val_loss: 0.5450\n",
      "Epoch 92/100\n",
      "43620/43620 [==============================] - 129s 3ms/step - loss: 0.5323 - val_loss: 0.5078\n",
      "Epoch 93/100\n",
      "43620/43620 [==============================] - 129s 3ms/step - loss: 0.5379 - val_loss: 0.6054\n",
      "Epoch 94/100\n",
      "43620/43620 [==============================] - 132s 3ms/step - loss: 0.5301 - val_loss: 0.6401\n",
      "Epoch 95/100\n",
      "43620/43620 [==============================] - 129s 3ms/step - loss: 0.5384 - val_loss: 0.6484\n",
      "Epoch 96/100\n",
      "43620/43620 [==============================] - 128s 3ms/step - loss: 0.5368 - val_loss: 0.5108\n",
      "Epoch 97/100\n",
      "43620/43620 [==============================] - 130s 3ms/step - loss: 0.5143 - val_loss: 0.4595\n",
      "Epoch 98/100\n",
      "43620/43620 [==============================] - 128s 3ms/step - loss: 0.5233 - val_loss: 0.5289\n",
      "Epoch 99/100\n",
      "43620/43620 [==============================] - 129s 3ms/step - loss: 0.5172 - val_loss: 0.7921\n",
      "Epoch 100/100\n",
      "43620/43620 [==============================] - 127s 3ms/step - loss: 0.5322 - val_loss: 0.5161\n",
      "13632/13632 [==============================] - 14s 999us/step\n",
      "Mean Squared Error: 0.5072810103502673\n",
      "Root Mean Squared Error (RMSE): 0.7122366252519364\n",
      "             Actual   Predicted\n",
      "968840    47.375000   49.225803\n",
      "27977    116.080002  116.584335\n",
      "1243565   52.660000   52.737671\n",
      "1459379   65.470001   66.115250\n",
      "2445359  109.019997  109.171997\n"
     ]
    }
   ],
   "source": [
    "model = keras.Sequential([\n",
    "    layers.Dense(64, activation='relu', input_shape=(X_train_reg.shape[1],)), \n",
    "    layers.Dense(32, activation='relu'), \n",
    "    layers.Dense(1)  \n",
    "])\n",
    "\n",
    "model.compile(optimizer='adam', loss='mean_squared_error')\n",
    "\n",
    "model.fit(X_train_reg, y_train_reg, epochs=100, batch_size=32, validation_split=0.2)\n",
    "\n",
    "y_pred = model.predict(X_test_reg)\n",
    "\n",
    "mse = mean_squared_error(y_test_reg, y_pred)\n",
    "print(f'Mean Squared Error: {mse}')\n",
    "\n",
    "rmse = np.sqrt(mse)\n",
    "print(f'Root Mean Squared Error (RMSE): {rmse}')\n",
    "\n",
    "results = pd.DataFrame({\n",
    "    'Actual': y_test_reg,\n",
    "    'Predicted': y_pred.flatten()  \n",
    "})\n",
    "\n",
    "print(results.head())\n"
   ]
  },
  {
   "cell_type": "markdown",
   "metadata": {},
   "source": [
    "-----\n",
    "Deep Learning - Classification\n",
    "-----"
   ]
  },
  {
   "cell_type": "code",
   "execution_count": 195,
   "metadata": {},
   "outputs": [
    {
     "name": "stderr",
     "output_type": "stream",
     "text": [
      "c:\\Users\\Nishc\\anaconda3\\envs\\TensorFlow_ENV\\lib\\site-packages\\keras\\engine\\data_adapter.py:1699: FutureWarning: The behavior of `series[i:j]` with an integer-dtype index is deprecated. In a future version, this will be treated as *label-based* indexing, consistent with e.g. `series[i]` lookups. To retain the old behavior, use `series.iloc[i:j]`. To get the future behavior, use `series.loc[i:j]`.\n",
      "  return t[start:end]\n"
     ]
    },
    {
     "name": "stdout",
     "output_type": "stream",
     "text": [
      "Epoch 1/10\n",
      "48959/48959 [==============================] - 203s 4ms/step - loss: 0.1218 - accuracy: 0.7688 - val_loss: 0.1201 - val_accuracy: 0.7723\n",
      "Epoch 2/10\n",
      "48959/48959 [==============================] - 264s 5ms/step - loss: 0.1202 - accuracy: 0.7701 - val_loss: 0.1199 - val_accuracy: 0.7720\n",
      "Epoch 3/10\n",
      "48959/48959 [==============================] - 237s 5ms/step - loss: 0.1200 - accuracy: 0.7703 - val_loss: 0.1200 - val_accuracy: 0.7718\n",
      "Epoch 4/10\n",
      "48959/48959 [==============================] - 166s 3ms/step - loss: 0.1198 - accuracy: 0.7706 - val_loss: 0.1199 - val_accuracy: 0.7680\n",
      "Epoch 5/10\n",
      "48959/48959 [==============================] - 167s 3ms/step - loss: 0.1197 - accuracy: 0.7711 - val_loss: 0.1196 - val_accuracy: 0.7709\n",
      "Epoch 6/10\n",
      "48959/48959 [==============================] - 157s 3ms/step - loss: 0.1197 - accuracy: 0.7708 - val_loss: 0.1197 - val_accuracy: 0.7705\n",
      "Epoch 7/10\n",
      "48959/48959 [==============================] - 157s 3ms/step - loss: 0.1196 - accuracy: 0.7715 - val_loss: 0.1196 - val_accuracy: 0.7717\n",
      "Epoch 8/10\n",
      "48959/48959 [==============================] - 156s 3ms/step - loss: 0.1196 - accuracy: 0.7714 - val_loss: 0.1194 - val_accuracy: 0.7716\n",
      "Epoch 9/10\n",
      "48959/48959 [==============================] - 156s 3ms/step - loss: 0.1196 - accuracy: 0.7716 - val_loss: 0.1195 - val_accuracy: 0.7715\n",
      "Epoch 10/10\n",
      "48959/48959 [==============================] - 156s 3ms/step - loss: 0.1196 - accuracy: 0.7717 - val_loss: 0.1197 - val_accuracy: 0.7708\n",
      "15300/15300 [==============================] - 16s 1ms/step\n",
      "Accuracy: 0.7707205679900978\n"
     ]
    }
   ],
   "source": [
    "model = keras.Sequential([\n",
    "    layers.Dense(64, activation='relu', input_shape=(X_train_cal.shape[1],)), \n",
    "    layers.Dense(32, activation='relu'), \n",
    "    layers.Dense(1)  \n",
    "])\n",
    "\n",
    "with tf.device('/GPU:0'):\n",
    "    model.compile(optimizer='adam', loss='mean_squared_error', metrics=['accuracy'])\n",
    "\n",
    "model.fit(X_train_cal, y_train_cal, epochs=10, batch_size=32, validation_split=0.2)\n",
    "\n",
    "y_pred = (model.predict(X_test_cal) > 0.5).astype(\"int32\")\n",
    "accuracy = accuracy_score(y_test_cal, y_pred)\n",
    "print(f'Accuracy: {accuracy}')"
   ]
  },
  {
   "cell_type": "code",
   "execution_count": null,
   "metadata": {},
   "outputs": [],
   "source": [
    "X_train_cal_pca = final_pcas(X_train_cal)\n",
    "X_test_cal_pca = final_pcas(X_test_cal)"
   ]
  },
  {
   "cell_type": "code",
   "execution_count": 196,
   "metadata": {},
   "outputs": [
    {
     "name": "stdout",
     "output_type": "stream",
     "text": [
      "Trial 5 Complete [00h 12m 31s]\n",
      "val_accuracy: 0.7724220752716064\n",
      "\n",
      "Best val_accuracy So Far: 0.7729301452636719\n",
      "Total elapsed time: 01h 06m 05s\n"
     ]
    }
   ],
   "source": [
    "from keras import layers, models\n",
    "from keras_tuner import RandomSearch\n",
    "\n",
    "def build_model(hp):\n",
    "    model = models.Sequential()\n",
    "    model.add(layers.Dense(units=hp.Int('units1', min_value=32, max_value=128, step=32),\n",
    "                           activation='relu', input_shape=(X_train_cal.shape[1],)))\n",
    "    model.add(layers.Dense(units=hp.Int('units2', min_value=16, max_value=48, step=16),\n",
    "                           activation='relu'))\n",
    "    model.add(layers.Dense(1, activation='sigmoid'))\n",
    "    \n",
    "    model.compile(optimizer='adam', loss='binary_crossentropy', metrics=['accuracy'])\n",
    "    return model\n",
    "\n",
    "tuner = RandomSearch(build_model,\n",
    "                     objective='val_accuracy',\n",
    "                     max_trials=5,\n",
    "                     executions_per_trial=1,\n",
    "                     directory='my_dir',\n",
    "                     project_name='helloworld')\n",
    "\n",
    "tuner.search(X_train_cal, y_train_cal, epochs=5, validation_split=0.2)\n",
    "best_model = tuner.get_best_models(num_models=1)[0]\n"
   ]
  },
  {
   "cell_type": "code",
   "execution_count": null,
   "metadata": {},
   "outputs": [
    {
     "name": "stdout",
     "output_type": "stream",
     "text": [
      "Trial 10 Complete [00h 02m 43s]\n",
      "val_accuracy: 0.719045877456665\n",
      "\n",
      "Best val_accuracy So Far: 0.719045877456665\n",
      "Total elapsed time: 00h 27m 21s\n",
      "WARNING:tensorflow:Detecting that an object or model or tf.train.Checkpoint is being deleted with unrestored values. See the following logs for the specific values in question. To silence these warnings, use `status.expect_partial()`. See https://www.tensorflow.org/api_docs/python/tf/train/Checkpoint#restorefor details about the status object returned by the restore function.\n",
      "WARNING:tensorflow:Value in checkpoint could not be found in the restored object: (root).optimizer.iter\n",
      "WARNING:tensorflow:Value in checkpoint could not be found in the restored object: (root).optimizer.beta_1\n",
      "WARNING:tensorflow:Value in checkpoint could not be found in the restored object: (root).optimizer.beta_2\n",
      "WARNING:tensorflow:Value in checkpoint could not be found in the restored object: (root).optimizer.decay\n",
      "WARNING:tensorflow:Value in checkpoint could not be found in the restored object: (root).optimizer.learning_rate\n"
     ]
    }
   ],
   "source": [
    "from keras import layers, models\n",
    "from keras_tuner import RandomSearch\n",
    "\n",
    "def build_model(hp):\n",
    "    model = models.Sequential()\n",
    "    model.add(layers.Dense(units=hp.Int('units1', min_value=32, max_value=128, step=32),\n",
    "                           activation='relu', input_shape=(X_train_cal_pca.shape[1],)))\n",
    "    model.add(layers.Dense(units=hp.Int('units2', min_value=16, max_value=48, step=16),\n",
    "                           activation='relu'))\n",
    "    model.add(layers.Dense(1, activation='sigmoid'))\n",
    "    \n",
    "    model.compile(optimizer='adam', loss='binary_crossentropy', metrics=['accuracy'])\n",
    "    return model\n",
    "\n",
    "tuner = RandomSearch(build_model,\n",
    "                     objective='val_accuracy',\n",
    "                     max_trials=10,\n",
    "                     executions_per_trial=1,\n",
    "                     directory='my_dir_pca',\n",
    "                     project_name='helloworld')\n",
    "\n",
    "tuner.search(X_train_cal_pca, y_train_cal, epochs=5, validation_split=0.2)\n",
    "best_model = tuner.get_best_models(num_models=1)[0]"
   ]
  },
  {
   "cell_type": "code",
   "execution_count": null,
   "metadata": {},
   "outputs": [],
   "source": []
  }
 ],
 "metadata": {
  "kernelspec": {
   "display_name": "TensorFlow_ENV",
   "language": "python",
   "name": "python3"
  },
  "language_info": {
   "codemirror_mode": {
    "name": "ipython",
    "version": 3
   },
   "file_extension": ".py",
   "mimetype": "text/x-python",
   "name": "python",
   "nbconvert_exporter": "python",
   "pygments_lexer": "ipython3",
   "version": "3.10.14"
  }
 },
 "nbformat": 4,
 "nbformat_minor": 2
}
